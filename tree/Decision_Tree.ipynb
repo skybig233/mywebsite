{
 "cells": [
  {
   "cell_type": "markdown",
   "metadata": {},
   "source": [
    "## <font color=Crimson size=6 face=\"宋体\">决策树（Decision Tree）</font>\n",
    "[参考https://blog.csdn.net/weixin_43216017/article/details/87474045](https://blog.csdn.net/weixin_43216017/article/details/87474045)"
   ]
  },
  {
   "cell_type": "markdown",
   "metadata": {},
   "source": [
    "# 常用的决策树算法有：\n",
    "## CART（1984年）：用<font color=crimson>基尼系数</font>选取特征，能处理<font color=crimson>连续</font>属性和<font color=crimson>缺失</font>的问题，可以做<font color=crimson>分类和回归</font>\n",
    "## ID3（1986年）：用<font color=crimson>信息增益</font>选取特征，只适用于<font color=crimson>离散</font>属性，只能做<font color=crimson>分类</font>\n",
    "## C4.5（1993年）：用<font color=crimson>信息增益率</font>选取特征，能处理<font color=crimson>连续</font>属性和<font color=crimson>缺失</font>的问题，只能做<font color=crimson>分类</font>"
   ]
  },
  {
   "cell_type": "markdown",
   "metadata": {
    "pycharm": {
     "name": "#%% md\n"
    }
   },
   "source": [
    "## 下面以ID3算法为例展示决策树算法过程\n",
    "### 算法步骤：\n",
    "### 1、计算总体信息熵\n",
    "### 2、计算各属性信息增益\n",
    "### 3、选取最大信息增益的属性作为决策节点划分样本\n",
    "### 4、返回1，重新计算总体信息熵，直到总体信息熵为0退出循环"
   ]
  },
  {
   "cell_type": "code",
   "execution_count": 1,
   "metadata": {
    "pycharm": {
     "name": "#%%\n"
    }
   },
   "outputs": [],
   "source": [
    "import collections\n",
    "import os\n",
    "\n",
    "import ipywidgets as widgets\n",
    "import pandas as pd\n",
    "from IPython.display import display,Latex\n",
    "\n",
    "from dataset_producer import Dataset\n",
    "import trees\n",
    "import algo_decision_tree"
   ]
  },
  {
   "cell_type": "markdown",
   "metadata": {
    "pycharm": {
     "name": "#%% md\n"
    }
   },
   "source": [
    "## 导入数据"
   ]
  },
  {
   "cell_type": "code",
   "execution_count": 2,
   "metadata": {},
   "outputs": [
    {
     "data": {
      "application/vnd.jupyter.widget-view+json": {
       "model_id": "1f90987c5f2f483eac09cf10497e6224",
       "version_major": 2,
       "version_minor": 0
      },
      "text/plain": [
       "interactive(children=(Dropdown(description='path', options=('.\\\\dataset\\\\human.CSV', '.\\\\dataset\\\\lenses.txt',…"
      ]
     },
     "metadata": {},
     "output_type": "display_data"
    },
    {
     "data": {
      "text/plain": [
       "<function __main__.show_data(path)>"
      ]
     },
     "execution_count": 2,
     "metadata": {},
     "output_type": "execute_result"
    }
   ],
   "source": [
    "DATA_DIR = \".\\dataset\"\n",
    "all_data_path = []\n",
    "for root, dirs, files in os.walk(DATA_DIR):\n",
    "    for file in files:\n",
    "        all_data_path.append(os.path.join(root, file))\n",
    "\n",
    "new_dataset=Dataset()\n",
    "def show_data(path):\n",
    "    global new_dataset\n",
    "    new_dataset=Dataset(path=path,haveHead=True)\n",
    "    display(new_dataset.data)\n",
    "widgets.interact(show_data,path=all_data_path)"
   ]
  },
  {
   "cell_type": "markdown",
   "metadata": {},
   "source": [
    "## 信息熵计算公式\n",
    "### $$H(X)=-\\sum_{i=1}^{n}p_ilogp_i$$\n",
    "### 以最后一列为标签计算总信息熵"
   ]
  },
  {
   "cell_type": "code",
   "execution_count": 3,
   "metadata": {
    "scrolled": false
   },
   "outputs": [
    {
     "name": "stdout",
     "output_type": "stream",
     "text": [
      "以\"贷款审批结果\"为类标签，对其所有可能取值计数，结果为 Counter({'是': 9, '否': 6})\n"
     ]
    },
    {
     "data": {
      "text/latex": [
       "$info(D)=-\\frac{9}{15}log_2(\\frac{9}{15})-\\frac{6}{15}log_2(\\frac{6}{15})=0.970951$"
      ],
      "text/plain": [
       "<IPython.core.display.Latex object>"
      ]
     },
     "execution_count": 3,
     "metadata": {},
     "output_type": "execute_result"
    }
   ],
   "source": [
    "myDat=new_dataset.data.to_numpy()\n",
    "d=collections.Counter(new_dataset.data.iloc[:,-1])\n",
    "print(\"以\\\"%s\\\"为类标签，对其所有可能取值计数，结果为\"%new_dataset.head[-1],d)\n",
    "\n",
    "def latex_total_ent(d)->str:\n",
    "    \"\"\"\n",
    "    输入计算总信息熵的字典，返回latex string\n",
    "    \"\"\"\n",
    "    ans= '$info(D)='\n",
    "    denominator=sum(d.values())#分母\n",
    "    #每个label产生一个多项式\n",
    "    for i in d:\n",
    "        numerator=d[i]#分子\n",
    "        term='-\\\\frac{%d}{%d}log_2(\\\\frac{%d}{%d})' %(numerator,denominator,numerator,denominator)\n",
    "        ans+=term\n",
    "    ans+= '=%f$' % algo_decision_tree.calcShannonEnt(d)\n",
    "    return ans\n",
    "\n",
    "Latex(latex_total_ent(d))"
   ]
  },
  {
   "cell_type": "markdown",
   "metadata": {},
   "source": [
    "## 计算每个属性的条件信息熵和信息增益\n",
    "### 条件信息熵计算公式\n",
    "### $$H(Y|X)=\\sum_{i=1}^{n}p_iH(Y|X=x_i)$$\n",
    "### 信息增益计算公式\n",
    "### $$g(D,A)=H(D)-H(D|A)$$"
   ]
  },
  {
   "cell_type": "code",
   "execution_count": 4,
   "metadata": {
    "scrolled": false
   },
   "outputs": [
    {
     "data": {
      "application/vnd.jupyter.widget-view+json": {
       "model_id": "90477d47bebd4614a0bf82c8ff6b4213",
       "version_major": 2,
       "version_minor": 0
      },
      "text/plain": [
       "interactive(children=(Dropdown(description='选择属性:', options=(('年龄', 0), ('是否工作', 1), ('是否有房子', 2), ('信贷情况', 3)…"
      ]
     },
     "metadata": {},
     "output_type": "display_data"
    },
    {
     "data": {
      "text/html": [
       "<div>\n",
       "<style scoped>\n",
       "    .dataframe tbody tr th:only-of-type {\n",
       "        vertical-align: middle;\n",
       "    }\n",
       "\n",
       "    .dataframe tbody tr th {\n",
       "        vertical-align: top;\n",
       "    }\n",
       "\n",
       "    .dataframe thead th {\n",
       "        text-align: right;\n",
       "    }\n",
       "</style>\n",
       "<table border=\"1\" class=\"dataframe\">\n",
       "  <thead>\n",
       "    <tr style=\"text-align: right;\">\n",
       "      <th></th>\n",
       "      <th>年龄</th>\n",
       "      <th>是否工作</th>\n",
       "      <th>是否有房子</th>\n",
       "      <th>信贷情况</th>\n",
       "      <th>贷款审批结果</th>\n",
       "    </tr>\n",
       "  </thead>\n",
       "  <tbody>\n",
       "    <tr>\n",
       "      <td>0</td>\n",
       "      <td>老年</td>\n",
       "      <td>否</td>\n",
       "      <td>是</td>\n",
       "      <td>很好</td>\n",
       "      <td>是</td>\n",
       "    </tr>\n",
       "    <tr>\n",
       "      <td>1</td>\n",
       "      <td>老年</td>\n",
       "      <td>否</td>\n",
       "      <td>是</td>\n",
       "      <td>很好</td>\n",
       "      <td>是</td>\n",
       "    </tr>\n",
       "    <tr>\n",
       "      <td>2</td>\n",
       "      <td>老年</td>\n",
       "      <td>是</td>\n",
       "      <td>否</td>\n",
       "      <td>好</td>\n",
       "      <td>是</td>\n",
       "    </tr>\n",
       "    <tr>\n",
       "      <td>3</td>\n",
       "      <td>老年</td>\n",
       "      <td>是</td>\n",
       "      <td>否</td>\n",
       "      <td>好</td>\n",
       "      <td>是</td>\n",
       "    </tr>\n",
       "    <tr>\n",
       "      <td>4</td>\n",
       "      <td>老年</td>\n",
       "      <td>否</td>\n",
       "      <td>否</td>\n",
       "      <td>一般</td>\n",
       "      <td>否</td>\n",
       "    </tr>\n",
       "    <tr>\n",
       "      <td>5</td>\n",
       "      <td>中年</td>\n",
       "      <td>否</td>\n",
       "      <td>否</td>\n",
       "      <td>一般</td>\n",
       "      <td>否</td>\n",
       "    </tr>\n",
       "    <tr>\n",
       "      <td>6</td>\n",
       "      <td>中年</td>\n",
       "      <td>否</td>\n",
       "      <td>否</td>\n",
       "      <td>好</td>\n",
       "      <td>否</td>\n",
       "    </tr>\n",
       "    <tr>\n",
       "      <td>7</td>\n",
       "      <td>中年</td>\n",
       "      <td>是</td>\n",
       "      <td>是</td>\n",
       "      <td>好</td>\n",
       "      <td>是</td>\n",
       "    </tr>\n",
       "    <tr>\n",
       "      <td>8</td>\n",
       "      <td>中年</td>\n",
       "      <td>否</td>\n",
       "      <td>是</td>\n",
       "      <td>很好</td>\n",
       "      <td>是</td>\n",
       "    </tr>\n",
       "    <tr>\n",
       "      <td>9</td>\n",
       "      <td>中年</td>\n",
       "      <td>否</td>\n",
       "      <td>是</td>\n",
       "      <td>很好</td>\n",
       "      <td>是</td>\n",
       "    </tr>\n",
       "    <tr>\n",
       "      <td>10</td>\n",
       "      <td>青年</td>\n",
       "      <td>否</td>\n",
       "      <td>否</td>\n",
       "      <td>一般</td>\n",
       "      <td>否</td>\n",
       "    </tr>\n",
       "    <tr>\n",
       "      <td>11</td>\n",
       "      <td>青年</td>\n",
       "      <td>否</td>\n",
       "      <td>否</td>\n",
       "      <td>好</td>\n",
       "      <td>否</td>\n",
       "    </tr>\n",
       "    <tr>\n",
       "      <td>12</td>\n",
       "      <td>青年</td>\n",
       "      <td>是</td>\n",
       "      <td>否</td>\n",
       "      <td>好</td>\n",
       "      <td>是</td>\n",
       "    </tr>\n",
       "    <tr>\n",
       "      <td>13</td>\n",
       "      <td>青年</td>\n",
       "      <td>是</td>\n",
       "      <td>是</td>\n",
       "      <td>一般</td>\n",
       "      <td>是</td>\n",
       "    </tr>\n",
       "    <tr>\n",
       "      <td>14</td>\n",
       "      <td>青年</td>\n",
       "      <td>否</td>\n",
       "      <td>否</td>\n",
       "      <td>一般</td>\n",
       "      <td>否</td>\n",
       "    </tr>\n",
       "  </tbody>\n",
       "</table>\n",
       "</div>"
      ],
      "text/plain": [
       "    年龄 是否工作 是否有房子 信贷情况 贷款审批结果\n",
       "0   老年    否     是   很好      是\n",
       "1   老年    否     是   很好      是\n",
       "2   老年    是     否    好      是\n",
       "3   老年    是     否    好      是\n",
       "4   老年    否     否   一般      否\n",
       "5   中年    否     否   一般      否\n",
       "6   中年    否     否    好      否\n",
       "7   中年    是     是    好      是\n",
       "8   中年    否     是   很好      是\n",
       "9   中年    否     是   很好      是\n",
       "10  青年    否     否   一般      否\n",
       "11  青年    否     否    好      否\n",
       "12  青年    是     否    好      是\n",
       "13  青年    是     是   一般      是\n",
       "14  青年    否     否   一般      否"
      ]
     },
     "metadata": {},
     "output_type": "display_data"
    }
   ],
   "source": [
    "def latex_condition_ent(ent_info, condition_num:int):\n",
    "    \"\"\"\n",
    "    输入信息熵的字典，返回所有latex string，包含条件信息熵和信息增益\n",
    "    :param ent_info:List[Entropy,Dict[int,Dict[str,Entropy]]]，列表第一个是总信息熵，第二个条件信息熵\n",
    "    :return:\n",
    "    \"\"\"\n",
    "    d=ent_info[1][condition_num]\n",
    "    condition=new_dataset.head[condition_num]\n",
    "    total_ent=ent_info[0].ent_value\n",
    "\n",
    "    latex_list=[]\n",
    "    denominator_list=[]\n",
    "    ent_list=[]\n",
    "    for condition_value in d:\n",
    "        ans= '$info(D|%s==%s)='%(condition,condition_value)\n",
    "        counter=d[condition_value].ent_dict\n",
    "        denominator=sum(counter.values())#分母\n",
    "        denominator_list.append(denominator)\n",
    "        #每个label产生一个多项式\n",
    "        for i in counter:\n",
    "            numerator=counter[i]#分子\n",
    "            term='-\\\\frac{%d}{%d}log_2(\\\\frac{%d}{%d})' %(numerator,denominator,numerator,denominator)\n",
    "            ans+=term\n",
    "        ans+= '=%f$' % d[condition_value].ent_value\n",
    "        ent_list.append(d[condition_value].ent_value)\n",
    "        latex_list.append(ans)\n",
    "\n",
    "    #计算总体\n",
    "    ans= '$info(D|%s)='%condition\n",
    "    terms=[]\n",
    "    condition_ent=0\n",
    "    for i in range(len(denominator_list)):\n",
    "        term='\\\\frac{%d}{%d}\\\\times{%f}'%(denominator_list[i],sum(denominator_list),ent_list[i])\n",
    "        terms.append(term)\n",
    "        condition_ent+= denominator_list[i] / sum(denominator_list) * ent_list[i]\n",
    "    ans+='+'.join(terms)\n",
    "    ans+='=%f$' % condition_ent\n",
    "    latex_list.append(ans)\n",
    "\n",
    "    #计算增益\n",
    "    ans='$Gain(%s)=%f-%f=%f$'%(condition,total_ent,condition_ent,total_ent-condition_ent)\n",
    "    latex_list.append(ans)\n",
    "    return latex_list\n",
    "\n",
    "ent_info,bestFeat = algo_decision_tree.chooseBestFeatureToSplit(myDat)\n",
    "\n",
    "def show_condition(property:int):\n",
    "    latex_list=latex_condition_ent(ent_info,property)\n",
    "    for latex in latex_list:\n",
    "        display(Latex(latex))\n",
    "# show_condition(0)\n",
    "\n",
    "property_string=new_dataset.head[:-1]\n",
    "op=[(new_dataset.head[i],i) for i in range(new_dataset.dimension-1)]\n",
    "widget_property=widgets.Dropdown(\n",
    "    options=op,\n",
    "    description='选择属性:',\n",
    ")\n",
    "widgets.interact(show_condition,property=widget_property)\n",
    "display(new_dataset.data)"
   ]
  },
  {
   "cell_type": "markdown",
   "metadata": {},
   "source": [
    "## 每轮选择信息增益最大的属性作为分类节点，生成决策树"
   ]
  },
  {
   "cell_type": "code",
   "execution_count": 5,
   "metadata": {
    "pycharm": {
     "name": "#%%\n"
    }
   },
   "outputs": [
    {
     "data": {
      "image/svg+xml": [
       "<?xml version=\"1.0\" encoding=\"UTF-8\" standalone=\"no\"?>\r\n",
       "<!DOCTYPE svg PUBLIC \"-//W3C//DTD SVG 1.1//EN\"\r\n",
       " \"http://www.w3.org/Graphics/SVG/1.1/DTD/svg11.dtd\">\r\n",
       "<!-- Generated by graphviz version 2.38.0 (20140413.2041)\r\n",
       " -->\r\n",
       "<!-- Title: %3 Pages: 1 -->\r\n",
       "<svg width=\"180pt\" height=\"218pt\"\r\n",
       " viewBox=\"0.00 0.00 180.00 218.00\" xmlns=\"http://www.w3.org/2000/svg\" xmlns:xlink=\"http://www.w3.org/1999/xlink\">\r\n",
       "<g id=\"graph0\" class=\"graph\" transform=\"scale(1 1) rotate(0) translate(4 214)\">\r\n",
       "<title>%3</title>\r\n",
       "<polygon fill=\"white\" stroke=\"none\" points=\"-4,4 -4,-214 176,-214 176,4 -4,4\"/>\r\n",
       "<!-- node0 -->\r\n",
       "<g id=\"node1\" class=\"node\"><title>node0</title>\r\n",
       "<polygon fill=\"none\" stroke=\"black\" points=\"101,-210 13,-210 13,-174 101,-174 101,-210\"/>\r\n",
       "<text text-anchor=\"middle\" x=\"57\" y=\"-188.3\" font-family=\"Microsoft YaHei\" font-size=\"14.00\">是否有房子</text>\r\n",
       "</g>\r\n",
       "<!-- node1 -->\r\n",
       "<g id=\"node2\" class=\"node\"><title>node1</title>\r\n",
       "<ellipse fill=\"none\" stroke=\"black\" cx=\"27\" cy=\"-105\" rx=\"27\" ry=\"18\"/>\r\n",
       "<text text-anchor=\"middle\" x=\"27\" y=\"-101.3\" font-family=\"Microsoft YaHei\" font-size=\"14.00\">是</text>\r\n",
       "</g>\r\n",
       "<!-- node0&#45;&gt;node1 -->\r\n",
       "<g id=\"edge1\" class=\"edge\"><title>node0&#45;&gt;node1</title>\r\n",
       "<path fill=\"none\" stroke=\"black\" d=\"M50.9291,-173.799C46.7269,-161.893 41.0547,-145.822 36.2875,-132.315\"/>\r\n",
       "<polygon fill=\"black\" stroke=\"black\" points=\"39.4865,-130.862 32.8577,-122.597 32.8855,-133.192 39.4865,-130.862\"/>\r\n",
       "<text text-anchor=\"middle\" x=\"51.5\" y=\"-144.8\" font-family=\"Microsoft YaHei\" font-size=\"14.00\">是</text>\r\n",
       "</g>\r\n",
       "<!-- node2 -->\r\n",
       "<g id=\"node3\" class=\"node\"><title>node2</title>\r\n",
       "<polygon fill=\"none\" stroke=\"black\" points=\"145.5,-123 72.5,-123 72.5,-87 145.5,-87 145.5,-123\"/>\r\n",
       "<text text-anchor=\"middle\" x=\"109\" y=\"-101.3\" font-family=\"Microsoft YaHei\" font-size=\"14.00\">是否工作</text>\r\n",
       "</g>\r\n",
       "<!-- node0&#45;&gt;node2 -->\r\n",
       "<g id=\"edge2\" class=\"edge\"><title>node0&#45;&gt;node2</title>\r\n",
       "<path fill=\"none\" stroke=\"black\" d=\"M67.523,-173.799C74.8532,-161.817 84.7638,-145.617 93.0593,-132.057\"/>\r\n",
       "<polygon fill=\"black\" stroke=\"black\" points=\"96.2597,-133.532 98.4927,-123.175 90.2884,-129.879 96.2597,-133.532\"/>\r\n",
       "<text text-anchor=\"middle\" x=\"94.5\" y=\"-144.8\" font-family=\"Microsoft YaHei\" font-size=\"14.00\">否</text>\r\n",
       "</g>\r\n",
       "<!-- node3 -->\r\n",
       "<g id=\"node4\" class=\"node\"><title>node3</title>\r\n",
       "<ellipse fill=\"none\" stroke=\"black\" cx=\"73\" cy=\"-18\" rx=\"27\" ry=\"18\"/>\r\n",
       "<text text-anchor=\"middle\" x=\"73\" y=\"-14.3\" font-family=\"Microsoft YaHei\" font-size=\"14.00\">是</text>\r\n",
       "</g>\r\n",
       "<!-- node2&#45;&gt;node3 -->\r\n",
       "<g id=\"edge3\" class=\"edge\"><title>node2&#45;&gt;node3</title>\r\n",
       "<path fill=\"none\" stroke=\"black\" d=\"M101.715,-86.799C96.6228,-74.776 89.732,-58.5061 83.9771,-44.9181\"/>\r\n",
       "<polygon fill=\"black\" stroke=\"black\" points=\"87.1522,-43.4401 80.0293,-35.597 80.7064,-46.1701 87.1522,-43.4401\"/>\r\n",
       "<text text-anchor=\"middle\" x=\"101.5\" y=\"-57.8\" font-family=\"Microsoft YaHei\" font-size=\"14.00\">是</text>\r\n",
       "</g>\r\n",
       "<!-- node4 -->\r\n",
       "<g id=\"node5\" class=\"node\"><title>node4</title>\r\n",
       "<ellipse fill=\"none\" stroke=\"black\" cx=\"145\" cy=\"-18\" rx=\"27\" ry=\"18\"/>\r\n",
       "<text text-anchor=\"middle\" x=\"145\" y=\"-14.3\" font-family=\"Microsoft YaHei\" font-size=\"14.00\">否</text>\r\n",
       "</g>\r\n",
       "<!-- node2&#45;&gt;node4 -->\r\n",
       "<g id=\"edge4\" class=\"edge\"><title>node2&#45;&gt;node4</title>\r\n",
       "<path fill=\"none\" stroke=\"black\" d=\"M116.285,-86.799C121.377,-74.776 128.268,-58.5061 134.023,-44.9181\"/>\r\n",
       "<polygon fill=\"black\" stroke=\"black\" points=\"137.294,-46.1701 137.971,-35.597 130.848,-43.4401 137.294,-46.1701\"/>\r\n",
       "<text text-anchor=\"middle\" x=\"136.5\" y=\"-57.8\" font-family=\"Microsoft YaHei\" font-size=\"14.00\">否</text>\r\n",
       "</g>\r\n",
       "</g>\r\n",
       "</svg>\r\n"
      ],
      "text/plain": [
       "<graphviz.dot.Digraph at 0x1d094d0d808>"
      ]
     },
     "execution_count": 5,
     "metadata": {},
     "output_type": "execute_result"
    }
   ],
   "source": [
    "myTree  = algo_decision_tree.createTree(new_dataset.data)\n",
    "myTree=trees.TreeNode.init_from_dict(myTree)\n",
    "myTree.show_tree_graphviz()"
   ]
  },
  {
   "cell_type": "markdown",
   "metadata": {},
   "source": [
    "## 每轮迭代决策树的生成过程"
   ]
  },
  {
   "cell_type": "code",
   "execution_count": 6,
   "metadata": {},
   "outputs": [],
   "source": [
    "# debug用全局变量\n",
    "# show_set=[]\n",
    "# show_ent_info=[]\n",
    "def createTree(dataSet:pd.DataFrame):\n",
    "    \"\"\"\n",
    "    在原有的trees.createTree进行改动，通过全局变量记录下每次递归决策树的变化\n",
    "    :param dataSet:\n",
    "    :return:\n",
    "    \"\"\"\n",
    "    global show_set,show_ent_info\n",
    "    # 每次执行前展示一下当前数据集\n",
    "    show_set+=[dataSet]\n",
    "\n",
    "    numpy_set=dataSet.to_numpy()\n",
    "    classList = numpy_set[:,-1]\n",
    "    if len(collections.Counter(classList))==1:\n",
    "        show_ent_info+=[(collections.Counter(classList),None)]\n",
    "        return classList[0]#stop splitting when all of the classes are equal，剩余标签是同一类\n",
    "    # if len(dataSet[0]) == 1: #stop splitting when there are no more features in dataSet，#只剩下一个数据\n",
    "    #     return majorityCnt(classList)\n",
    "    ent_info,bestFeat = algo_decision_tree.chooseBestFeatureToSplit(numpy_set)\n",
    "\n",
    "    # show_info用于展示每轮如何选择最好的特征\n",
    "    show_ent_info+=[ent_info]\n",
    "\n",
    "    bestFeatLabel = dataSet.columns[bestFeat]\n",
    "    myTree = {bestFeatLabel:{}}\n",
    "    \n",
    "    #对于最好特征那一列的每个可取value\n",
    "    for value in set(numpy_set[:,bestFeat]):\n",
    "        #过滤\n",
    "        filt_set=numpy_set[numpy_set[:,bestFeat]==value,:]\n",
    "        #用过滤的np.ndarray重新构建df，特征和原来相同，再把最好特征那一列删去\n",
    "        new_set=pd.DataFrame(data=filt_set,columns=dataSet.columns)\n",
    "        new_set=new_set.drop(bestFeatLabel,axis=1)\n",
    "        myTree[bestFeatLabel][value] = createTree(new_set)\n",
    "    return myTree"
   ]
  },
  {
   "cell_type": "markdown",
   "metadata": {
    "pycharm": {
     "name": "#%% md\n"
    }
   },
   "source": [
    "TODO:使用新写的TreeNode改写所有代码，放弃使用字典的形式生成决策树 \\\n",
    "DONE:treePlotter中传入字典画图对传入字典有要求，传入一个节点的字典，画不出一个节点的树 \\\n",
    "DONE：1.写一个tree类而非字典2.考虑使用graphviz/networkx画出决策树，而非matplotlib"
   ]
  },
  {
   "cell_type": "code",
   "execution_count": 9,
   "metadata": {
    "pycharm": {
     "name": "#%%\n"
    }
   },
   "outputs": [
    {
     "data": {
      "application/vnd.jupyter.widget-view+json": {
       "model_id": "2131022e8cee4240b2494bfe6a7c102d",
       "version_major": 2,
       "version_minor": 0
      },
      "text/plain": [
       "interactive(children=(IntSlider(value=0, continuous_update=False, description='迭代轮数', max=14), Dropdown(descri…"
      ]
     },
     "metadata": {},
     "output_type": "display_data"
    },
    {
     "data": {
      "application/vnd.jupyter.widget-view+json": {
       "model_id": "5e71a7a72b37495f8339ac2a89aa9e99",
       "version_major": 2,
       "version_minor": 0
      },
      "text/plain": [
       "HBox(children=(Output(), Output()))"
      ]
     },
     "metadata": {},
     "output_type": "display_data"
    },
    {
     "data": {
      "application/vnd.jupyter.widget-view+json": {
       "model_id": "9dc01766bd8e4e228fa672bf04aea6b4",
       "version_major": 2,
       "version_minor": 0
      },
      "text/plain": [
       "Output()"
      ]
     },
     "metadata": {},
     "output_type": "display_data"
    }
   ],
   "source": [
    "#初始化全局变量用于可视化\n",
    "show_set=[]\n",
    "show_ent_info=[]\n",
    "\n",
    "myTree=createTree(new_dataset.data)\n",
    "myTree=trees.TreeNode.init_from_dict(myTree)\n",
    "show_tree=myTree.show_tree_gradual_graphviz()\n",
    "#out_set用于展示数据集、out_tree展示树，out_text展示公式\n",
    "out_set,out_tree,out_text=widgets.Output(),widgets.Output(),widgets.Output()\n",
    "\n",
    "new_op=[(show_set[0].columns[i],i) for i in range(show_set[0].shape[1]-1)]\n",
    "new_widget_property=widgets.Dropdown(options=new_op,description='选择属性:')\n",
    "n_widget = widgets.IntSlider(min=0, max=len(show_set)-1, description='迭代轮数',\n",
    "                             continuous_update=False,value=0)\n",
    "def update_dropdown(*args):\n",
    "    n=n_widget.value\n",
    "    new_op=[(show_set[n].columns[i],i) for i in range(show_set[n].shape[1]-1)]\n",
    "    new_widget_property.options=new_op\n",
    "n_widget.observe(update_dropdown,'value')\n",
    "\n",
    "def show(n:int,condition_num:int):\n",
    "    if show_ent_info[n][1]!=None:\n",
    "        total_ent=latex_total_ent(show_ent_info[n][0].ent_dict)\n",
    "        condition_ent=latex_condition_ent(ent_info=show_ent_info[n],condition_num=condition_num)\n",
    "    else:\n",
    "        total_ent=latex_total_ent(show_ent_info[n][0])\n",
    "        condition_ent=[\"剩余的类标签都是同一类，总信息熵为0\"]\n",
    "    with out_set:\n",
    "        out_set.clear_output()\n",
    "        display(show_set[n])\n",
    "    with out_text:\n",
    "        out_text.clear_output()\n",
    "        display(Latex(total_ent))\n",
    "        for i in condition_ent:\n",
    "            display(Latex(i))\n",
    "        # display(show_ent_info[n])\n",
    "    with out_tree:\n",
    "        out_tree.clear_output()\n",
    "        display(show_tree[n])\n",
    "\n",
    "a=widgets.interactive(show,n=n_widget,condition_num=new_widget_property)\n",
    "display(a)\n",
    "# display(widgets.HBox([out_set,out_text]))\n",
    "# display(out_tree)\n",
    "display(widgets.HBox([out_set,out_text]))\n",
    "display(out_tree)\n",
    "# display(widgets.HBox([n_widget,new_widget_property]))"
   ]
  },
  {
   "cell_type": "code",
   "execution_count": null,
   "metadata": {
    "pycharm": {
     "name": "#%%"
    }
   },
   "outputs": [],
   "source": []
  },
  {
   "cell_type": "code",
   "execution_count": null,
   "metadata": {},
   "outputs": [],
   "source": []
  }
 ],
 "metadata": {
  "kernelspec": {
   "display_name": "Python 3",
   "language": "python",
   "name": "python3"
  },
  "language_info": {
   "codemirror_mode": {
    "name": "ipython",
    "version": 3
   },
   "file_extension": ".py",
   "mimetype": "text/x-python",
   "name": "python",
   "nbconvert_exporter": "python",
   "pygments_lexer": "ipython3",
   "version": "3.7.4"
  }
 },
 "nbformat": 4,
 "nbformat_minor": 5
}