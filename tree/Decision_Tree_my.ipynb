{
 "cells": [
  {
   "cell_type": "markdown",
   "metadata": {},
   "source": [
    "# 决策树\n",
    "\n",
    "TODO:每轮迭代需要展示的内容：\\\n",
    "1、当前数据集（经过上层选取的特征过滤后的剩余数据），以及总信息熵\\\n",
    "2、计算每个剩余特征的信息熵及信息增益\\\n",
    "3、当前树图\\\n",
    "4、取信息增益最大的作为分类节点\\\n",
    "5、分类后的树图\\\n",
    "[参考https://blog.csdn.net/weixin_43216017/article/details/87474045](https://blog.csdn.net/weixin_43216017/article/details/87474045)"
   ]
  },
  {
   "cell_type": "markdown",
   "metadata": {},
   "source": [
    "优点：计算复杂度不高，输出结果易于理解，对中间值的缺失不敏感，可以处理不相关特征数据。\\\n",
    "缺点：可能会产生过度匹配问题。\\\n",
    "适用数据类型：数值型和标称型"
   ]
  },
  {
   "cell_type": "markdown",
   "metadata": {},
   "source": [
    "### 决策树的一般流程"
   ]
  },
  {
   "cell_type": "markdown",
   "metadata": {},
   "source": [
    "收集数据：可以适用任何方法。\\\n",
    "准备数据：树构造算法只适用于标称型数据，因此数值型数据必须离散化。\\\n",
    "分析数据：可以使用任何方法，构造树完成之后，我们应该检查图形是否符合预期。\\\n",
    "训练算法：构造树的数据结构。\\\n",
    "测试算法：使用经验树计算错误率。\\\n",
    "使用算法：更好地理解数据内在含义。"
   ]
  },
  {
   "cell_type": "code",
   "execution_count": 1,
   "metadata": {
    "pycharm": {
     "name": "#%%\n"
    }
   },
   "outputs": [],
   "source": [
    "import collections\n",
    "import copy\n",
    "import os\n",
    "from collections import Counter\n",
    "from typing import Dict, List\n",
    "\n",
    "import ipywidgets as widgets\n",
    "import pandas as pd\n",
    "\n",
    "from IPython.display import display,Latex\n",
    "from matplotlib import pyplot as plt\n",
    "\n",
    "from dataset_producer import Dataset\n",
    "\n",
    "import trees\n"
   ]
  },
  {
   "cell_type": "code",
   "execution_count": 2,
   "metadata": {},
   "outputs": [
    {
     "data": {
      "application/vnd.jupyter.widget-view+json": {
       "model_id": "faa4dbcc1a8548d7858e44681a3fd8cd",
       "version_major": 2,
       "version_minor": 0
      },
      "text/plain": [
       "interactive(children=(Dropdown(description='path', options=('.\\\\dataset\\\\human.CSV', '.\\\\dataset\\\\lenses.txt',…"
      ]
     },
     "metadata": {},
     "output_type": "display_data"
    },
    {
     "data": {
      "text/plain": [
       "<function __main__.show_data(path)>"
      ]
     },
     "execution_count": 2,
     "metadata": {},
     "output_type": "execute_result"
    }
   ],
   "source": [
    "DATA_DIR = \".\\dataset\"\n",
    "all_data_path = []\n",
    "for root, dirs, files in os.walk(DATA_DIR):\n",
    "    for file in files:\n",
    "        all_data_path.append(os.path.join(root, file))\n",
    "\n",
    "new_dataset=Dataset()\n",
    "def show_data(path):\n",
    "    global new_dataset\n",
    "    new_dataset=Dataset(path=path,haveHead=True)\n",
    "    display(new_dataset.data)\n",
    "widgets.interact(show_data,path=all_data_path)"
   ]
  },
  {
   "cell_type": "markdown",
   "metadata": {},
   "source": [
    "计算总信息熵"
   ]
  },
  {
   "cell_type": "code",
   "execution_count": 3,
   "metadata": {
    "scrolled": false
   },
   "outputs": [
    {
     "name": "stdout",
     "output_type": "stream",
     "text": [
      "贷款审批结果 Counter({'是': 9, '否': 6})\n"
     ]
    },
    {
     "data": {
      "text/latex": [
       "$info(D)=-\\frac{9}{15}log_2(\\frac{9}{15})-\\frac{6}{15}log_2(\\frac{6}{15})=0.970951$"
      ],
      "text/plain": [
       "<IPython.core.display.Latex object>"
      ]
     },
     "execution_count": 3,
     "metadata": {},
     "output_type": "execute_result"
    }
   ],
   "source": [
    "myDat=new_dataset.data.to_numpy()\n",
    "\n",
    "d=Counter(new_dataset.data.iloc[:,-1])\n",
    "print(new_dataset.head[-1],d)\n",
    "\n",
    "def latex_total_ent(d:{}):\n",
    "    \"\"\"\n",
    "    输入计算总信息熵的字典，返回latex string\n",
    "    :param d:\n",
    "    :return:\n",
    "    \"\"\"\n",
    "    ans= '$info(D)='\n",
    "    denominator=sum(d.values())#分母\n",
    "    #每个label产生一个多项式\n",
    "    for i in d:\n",
    "        numerator=d[i]#分子\n",
    "        term='-\\\\frac{%d}{%d}log_2(\\\\frac{%d}{%d})' %(numerator,denominator,numerator,denominator)\n",
    "        ans+=term\n",
    "    ans+= '=%f$' % trees.calcShannonEnt(d)\n",
    "    return ans\n",
    "\n",
    "Latex(latex_total_ent(d))"
   ]
  },
  {
   "cell_type": "markdown",
   "metadata": {},
   "source": [
    "计算条件信息熵和信息增益"
   ]
  },
  {
   "cell_type": "code",
   "execution_count": 4,
   "metadata": {
    "scrolled": false
   },
   "outputs": [
    {
     "data": {
      "application/vnd.jupyter.widget-view+json": {
       "model_id": "47ab06c29a644c49af04c578e5fde012",
       "version_major": 2,
       "version_minor": 0
      },
      "text/plain": [
       "interactive(children=(Dropdown(description='选择属性:', options=(('年龄', 0), ('是否工作', 1), ('是否有房子', 2), ('信贷情况', 3)…"
      ]
     },
     "metadata": {},
     "output_type": "display_data"
    },
    {
     "data": {
      "text/html": [
       "<div>\n",
       "<style scoped>\n",
       "    .dataframe tbody tr th:only-of-type {\n",
       "        vertical-align: middle;\n",
       "    }\n",
       "\n",
       "    .dataframe tbody tr th {\n",
       "        vertical-align: top;\n",
       "    }\n",
       "\n",
       "    .dataframe thead th {\n",
       "        text-align: right;\n",
       "    }\n",
       "</style>\n",
       "<table border=\"1\" class=\"dataframe\">\n",
       "  <thead>\n",
       "    <tr style=\"text-align: right;\">\n",
       "      <th></th>\n",
       "      <th>年龄</th>\n",
       "      <th>是否工作</th>\n",
       "      <th>是否有房子</th>\n",
       "      <th>信贷情况</th>\n",
       "      <th>贷款审批结果</th>\n",
       "    </tr>\n",
       "  </thead>\n",
       "  <tbody>\n",
       "    <tr>\n",
       "      <td>0</td>\n",
       "      <td>老年</td>\n",
       "      <td>否</td>\n",
       "      <td>是</td>\n",
       "      <td>很好</td>\n",
       "      <td>是</td>\n",
       "    </tr>\n",
       "    <tr>\n",
       "      <td>1</td>\n",
       "      <td>老年</td>\n",
       "      <td>否</td>\n",
       "      <td>是</td>\n",
       "      <td>很好</td>\n",
       "      <td>是</td>\n",
       "    </tr>\n",
       "    <tr>\n",
       "      <td>2</td>\n",
       "      <td>老年</td>\n",
       "      <td>是</td>\n",
       "      <td>否</td>\n",
       "      <td>好</td>\n",
       "      <td>是</td>\n",
       "    </tr>\n",
       "    <tr>\n",
       "      <td>3</td>\n",
       "      <td>老年</td>\n",
       "      <td>是</td>\n",
       "      <td>否</td>\n",
       "      <td>好</td>\n",
       "      <td>是</td>\n",
       "    </tr>\n",
       "    <tr>\n",
       "      <td>4</td>\n",
       "      <td>老年</td>\n",
       "      <td>否</td>\n",
       "      <td>否</td>\n",
       "      <td>一般</td>\n",
       "      <td>否</td>\n",
       "    </tr>\n",
       "    <tr>\n",
       "      <td>5</td>\n",
       "      <td>中年</td>\n",
       "      <td>否</td>\n",
       "      <td>否</td>\n",
       "      <td>一般</td>\n",
       "      <td>否</td>\n",
       "    </tr>\n",
       "    <tr>\n",
       "      <td>6</td>\n",
       "      <td>中年</td>\n",
       "      <td>否</td>\n",
       "      <td>否</td>\n",
       "      <td>好</td>\n",
       "      <td>否</td>\n",
       "    </tr>\n",
       "    <tr>\n",
       "      <td>7</td>\n",
       "      <td>中年</td>\n",
       "      <td>是</td>\n",
       "      <td>是</td>\n",
       "      <td>好</td>\n",
       "      <td>是</td>\n",
       "    </tr>\n",
       "    <tr>\n",
       "      <td>8</td>\n",
       "      <td>中年</td>\n",
       "      <td>否</td>\n",
       "      <td>是</td>\n",
       "      <td>很好</td>\n",
       "      <td>是</td>\n",
       "    </tr>\n",
       "    <tr>\n",
       "      <td>9</td>\n",
       "      <td>中年</td>\n",
       "      <td>否</td>\n",
       "      <td>是</td>\n",
       "      <td>很好</td>\n",
       "      <td>是</td>\n",
       "    </tr>\n",
       "    <tr>\n",
       "      <td>10</td>\n",
       "      <td>青年</td>\n",
       "      <td>否</td>\n",
       "      <td>否</td>\n",
       "      <td>一般</td>\n",
       "      <td>否</td>\n",
       "    </tr>\n",
       "    <tr>\n",
       "      <td>11</td>\n",
       "      <td>青年</td>\n",
       "      <td>否</td>\n",
       "      <td>否</td>\n",
       "      <td>好</td>\n",
       "      <td>否</td>\n",
       "    </tr>\n",
       "    <tr>\n",
       "      <td>12</td>\n",
       "      <td>青年</td>\n",
       "      <td>是</td>\n",
       "      <td>否</td>\n",
       "      <td>好</td>\n",
       "      <td>是</td>\n",
       "    </tr>\n",
       "    <tr>\n",
       "      <td>13</td>\n",
       "      <td>青年</td>\n",
       "      <td>是</td>\n",
       "      <td>是</td>\n",
       "      <td>一般</td>\n",
       "      <td>是</td>\n",
       "    </tr>\n",
       "    <tr>\n",
       "      <td>14</td>\n",
       "      <td>青年</td>\n",
       "      <td>否</td>\n",
       "      <td>否</td>\n",
       "      <td>一般</td>\n",
       "      <td>否</td>\n",
       "    </tr>\n",
       "  </tbody>\n",
       "</table>\n",
       "</div>"
      ],
      "text/plain": [
       "    年龄 是否工作 是否有房子 信贷情况 贷款审批结果\n",
       "0   老年    否     是   很好      是\n",
       "1   老年    否     是   很好      是\n",
       "2   老年    是     否    好      是\n",
       "3   老年    是     否    好      是\n",
       "4   老年    否     否   一般      否\n",
       "5   中年    否     否   一般      否\n",
       "6   中年    否     否    好      否\n",
       "7   中年    是     是    好      是\n",
       "8   中年    否     是   很好      是\n",
       "9   中年    否     是   很好      是\n",
       "10  青年    否     否   一般      否\n",
       "11  青年    否     否    好      否\n",
       "12  青年    是     否    好      是\n",
       "13  青年    是     是   一般      是\n",
       "14  青年    否     否   一般      否"
      ]
     },
     "metadata": {},
     "output_type": "display_data"
    }
   ],
   "source": [
    "def latex_condition_ent(ent_info, condition_num:int):\n",
    "    \"\"\"\n",
    "    输入信息熵的字典，返回所有latex string，包含条件信息熵和信息增益\n",
    "    :param ent_info:List[Entropy,Dict[int,Dict[str,Entropy]]]，列表第一个是总信息熵，第二个条件信息熵\n",
    "    :return:\n",
    "    \"\"\"\n",
    "    d=ent_info[1][condition_num]\n",
    "    condition=new_dataset.head[condition_num]\n",
    "    total_ent=ent_info[0].ent_value\n",
    "\n",
    "    latex_list=[]\n",
    "    denominator_list=[]\n",
    "    ent_list=[]\n",
    "    for condition_value in d:\n",
    "        ans= '$info(D|%s==%s)='%(condition,condition_value)\n",
    "        counter=d[condition_value].ent_dict\n",
    "        denominator=sum(counter.values())#分母\n",
    "        denominator_list.append(denominator)\n",
    "        #每个label产生一个多项式\n",
    "        for i in counter:\n",
    "            numerator=counter[i]#分子\n",
    "            term='-\\\\frac{%d}{%d}log_2(\\\\frac{%d}{%d})' %(numerator,denominator,numerator,denominator)\n",
    "            ans+=term\n",
    "        ans+= '=%f$' % d[condition_value].ent_value\n",
    "        ent_list.append(d[condition_value].ent_value)\n",
    "        latex_list.append(ans)\n",
    "\n",
    "    #计算总体\n",
    "    ans= '$info(D|%s)='%condition\n",
    "    terms=[]\n",
    "    condition_ent=0\n",
    "    for i in range(len(denominator_list)):\n",
    "        term='\\\\frac{%d}{%d}\\\\times{%f}'%(denominator_list[i],sum(denominator_list),ent_list[i])\n",
    "        terms.append(term)\n",
    "        condition_ent+= denominator_list[i] / sum(denominator_list) * ent_list[i]\n",
    "    ans+='+'.join(terms)\n",
    "    ans+='=%f$' % condition_ent\n",
    "    latex_list.append(ans)\n",
    "\n",
    "    #计算增益\n",
    "    ans='$Gain(%s)=%f-%f=%f$'%(condition,total_ent,condition_ent,total_ent-condition_ent)\n",
    "    latex_list.append(ans)\n",
    "    return latex_list\n",
    "\n",
    "ent_info,bestFeat = trees.chooseBestFeatureToSplit(myDat)\n",
    "\n",
    "def show_condition(property:int):\n",
    "    latex_list=latex_condition_ent(ent_info,property)\n",
    "    for latex in latex_list:\n",
    "        display(Latex(latex))\n",
    "# show_condition(0)\n",
    "\n",
    "property_string=new_dataset.head[:-1]\n",
    "op=[(new_dataset.head[i],i) for i in range(new_dataset.dimension-1)]\n",
    "widget_property=widgets.Dropdown(\n",
    "    options=op,\n",
    "    description='选择属性:',\n",
    ")\n",
    "widgets.interact(show_condition,property=widget_property)\n",
    "display(new_dataset.data)"
   ]
  },
  {
   "cell_type": "markdown",
   "metadata": {},
   "source": [
    "每轮选择信息增益最大的属性作为分类节点，生成决策树"
   ]
  },
  {
   "cell_type": "code",
   "execution_count": 5,
   "metadata": {
    "pycharm": {
     "name": "#%%\n"
    }
   },
   "outputs": [
    {
     "data": {
      "image/png": "[encoded data removed]",
      "text/plain": [
       "<Figure size 432x288 with 1 Axes>"
      ]
     },
     "metadata": {},
     "output_type": "display_data"
    }
   ],
   "source": [
    "myTree  = trees.createTree(new_dataset.data)\n",
    "plt.rcParams['font.sans-serif'] = ['SimHei']\n",
    "trees.createPlot(myTree)"
   ]
  },
  {
   "cell_type": "code",
   "execution_count": 6,
   "metadata": {},
   "outputs": [
    {
     "name": "stdout",
     "output_type": "stream",
     "text": [
      "{'是否有房子': {'是': '是', '否': {'是否工作': {'是': '是', '否': '否'}}}}\n",
      "[{'是否有房子': {}}, {'是否有房子': {'是': '是'}}, {'是否工作': {}}, {'是否工作': {'是': '是'}}, {'是否工作': {'是': '是', '否': '否'}}, {'是否有房子': {'是': '是', '否': {'是否工作': {'是': '是', '否': '否'}}}}]\n"
     ]
    }
   ],
   "source": [
    "#debug用全局变量\n",
    "show_tree=[]\n",
    "show_set=[]\n",
    "show_ent_info=[]\n",
    "def createTree(dataSet:pd.DataFrame):\n",
    "    \"\"\"\n",
    "    在原有的trees.createTree进行改动，通过全局变量记录下每次递归决策树的变化\n",
    "    :param dataSet:\n",
    "    :return:\n",
    "    \"\"\"\n",
    "    global show_tree,show_set,show_ent_info\n",
    "    # 每次执行前展示一下当前数据集\n",
    "    show_set+=[dataSet]\n",
    "\n",
    "    numpy_set=dataSet.to_numpy()\n",
    "    classList = numpy_set[:,-1]\n",
    "    if len(collections.Counter(classList))==1:\n",
    "        show_ent_info+=[(collections.Counter(classList),None)]\n",
    "        return classList[0]#stop splitting when all of the classes are equal，剩余标签是同一类\n",
    "    # if len(dataSet[0]) == 1: #stop splitting when there are no more features in dataSet，#只剩下一个数据\n",
    "    #     return majorityCnt(classList)\n",
    "    ent_info,bestFeat = trees.chooseBestFeatureToSplit(numpy_set)\n",
    "\n",
    "    # show_info用于展示每轮如何选择最好的特征\n",
    "    show_ent_info+=[ent_info]\n",
    "\n",
    "    bestFeatLabel = dataSet.columns[bestFeat]\n",
    "    myTree = {bestFeatLabel:{}}\n",
    "\n",
    "    show_tree+=[copy.deepcopy(myTree)]\n",
    "    \n",
    "    #对于最好特征那一列的每个可取value\n",
    "    for value in set(numpy_set[:,bestFeat]):\n",
    "        #过滤\n",
    "        filt_set=numpy_set[numpy_set[:,bestFeat]==value,:]\n",
    "        #用过滤的np.ndarray重新构建df，特征和原来相同，再把最好特征那一列删去\n",
    "        new_set=pd.DataFrame(data=filt_set,columns=dataSet.columns)\n",
    "        new_set=new_set.drop(bestFeatLabel,axis=1)\n",
    "        myTree[bestFeatLabel][value] = createTree(new_set)\n",
    "\n",
    "        show_tree+=[copy.deepcopy(myTree)]\n",
    "\n",
    "    return myTree\n",
    "\n",
    "print(createTree(new_dataset.data))\n",
    "print(show_tree)"
   ]
  },
  {
   "cell_type": "markdown",
   "source": [
    "FIXME:treePlotter中传入字典画图对传入字典有要求，传入一个节点的字典，画不出一个节点的树 \\\n",
    "TODO：考虑使用graphviz画出决策树，而非matplotlib"
   ],
   "metadata": {
    "collapsed": false,
    "pycharm": {
     "name": "#%% md\n"
    }
   }
  },
  {
   "cell_type": "code",
   "execution_count": 18,
   "metadata": {
    "pycharm": {
     "name": "#%%\n"
    }
   },
   "outputs": [
    {
     "name": "stdout",
     "output_type": "stream",
     "text": [
      "5 6 5\n"
     ]
    },
    {
     "data": {
      "application/vnd.jupyter.widget-view+json": {
       "model_id": "65dc7356bb0f4cfd9c187dd6db5ba80b",
       "version_major": 2,
       "version_minor": 0
      },
      "text/plain": [
       "interactive(children=(IntSlider(value=0, continuous_update=False, description='n', max=4), Dropdown(descriptio…"
      ]
     },
     "metadata": {},
     "output_type": "display_data"
    },
    {
     "data": {
      "application/vnd.jupyter.widget-view+json": {
       "model_id": "3202bc1670894640a823a7339d899ddc",
       "version_major": 2,
       "version_minor": 0
      },
      "text/plain": [
       "HBox(children=(Output(), VBox(children=(Output(), Output()))))"
      ]
     },
     "metadata": {},
     "output_type": "display_data"
    }
   ],
   "source": [
    "#初始化全局变量用于可视化\n",
    "show_tree=[]\n",
    "show_set=[]\n",
    "show_ent_info=[]\n",
    "\n",
    "createTree(new_dataset.data)\n",
    "\n",
    "out_set,out_tree,out_text=widgets.Output(),widgets.Output(),widgets.Output()\n",
    "\n",
    "new_op=[(show_set[0].columns[i],i) for i in range(show_set[0].shape[1]-1)]\n",
    "new_widget_property=widgets.Dropdown(options=new_op,description='选择属性:')\n",
    "n_widget = widgets.IntSlider(min=0, max=len(show_set)-1, description='',\n",
    "                             continuous_update=False,value=0)\n",
    "def update_dropdown(*args):\n",
    "    n=n_widget.value\n",
    "    new_op=[(show_set[n].columns[i],i) for i in range(show_set[n].shape[1]-1)]\n",
    "    new_widget_property.options=new_op\n",
    "n_widget.observe(update_dropdown,'value')\n",
    "\n",
    "def show(n:int,condition_num:int):\n",
    "    if show_ent_info[n][1]!=None:\n",
    "        total_ent=latex_total_ent(show_ent_info[n][0].ent_dict)\n",
    "        condition_ent=latex_condition_ent(ent_info=show_ent_info[n],condition_num=condition_num)\n",
    "    else:\n",
    "        total_ent=latex_total_ent(show_ent_info[n][0])\n",
    "        condition_ent=[\"剩余的类标签都是同一类，总信息熵为0\"]\n",
    "    with out_set:\n",
    "        out_set.clear_output()\n",
    "        display(show_set[n])\n",
    "    with out_text:\n",
    "        out_text.clear_output()\n",
    "        display(Latex(total_ent))\n",
    "        for i in condition_ent:\n",
    "            display(Latex(i))\n",
    "        # display(show_ent_info[n])\n",
    "    with out_tree:\n",
    "        out_tree.clear_output()\n",
    "        plt.rcParams['font.sans-serif'] = ['SimHei']\n",
    "        # TODO:把-1换成n逐步展示决策树生成过程\n",
    "        trees.createPlot(show_tree[-1])\n",
    "\n",
    "print(len(show_set),len(show_ent_info),len(show_tree))\n",
    "\n",
    "\n",
    "a=widgets.interactive(show,n=n_widget,condition_num=new_widget_property)\n",
    "display(a)\n",
    "# display(widgets.HBox([out_set,out_text]))\n",
    "# display(out_tree)\n",
    "display(widgets.HBox([out_set,widgets.VBox([out_text,out_tree])]))\n",
    "# display(widgets.HBox([n_widget,new_widget_property]))"
   ]
  },
  {
   "cell_type": "code",
   "execution_count": null,
   "metadata": {
    "pycharm": {
     "name": "#%%"
    }
   },
   "outputs": [],
   "source": []
  }
 ],
 "metadata": {
  "kernelspec": {
   "display_name": "Python 3",
   "language": "python",
   "name": "python3"
  },
  "language_info": {
   "codemirror_mode": {
    "name": "ipython",
    "version": 3
   },
   "file_extension": ".py",
   "mimetype": "text/x-python",
   "name": "python",
   "nbconvert_exporter": "python",
   "pygments_lexer": "ipython3",
   "version": "3.7.4"
  }
 },
 "nbformat": 4,
 "nbformat_minor": 5
}