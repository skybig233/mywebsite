{
 "cells": [
  {
   "cell_type": "markdown",
   "metadata": {},
   "source": [
    "# 决策树\n",
    "\n",
    "TODO:每轮迭代需要展示的内容：\\\n",
    "1、当前数据集（经过上层选取的特征过滤后的剩余数据），以及总信息熵\\\n",
    "2、计算每个剩余特征的信息熵及信息增益\\\n",
    "3、当前树图\\\n",
    "4、取信息增益最大的作为分类节点\\\n",
    "5、分类后的树图\\\n",
    "[参考https://blog.csdn.net/weixin_43216017/article/details/87474045](https://blog.csdn.net/weixin_43216017/article/details/87474045)"
   ]
  },
  {
   "cell_type": "markdown",
   "metadata": {},
   "source": [
    "优点：计算复杂度不高，输出结果易于理解，对中间值的缺失不敏感，可以处理不相关特征数据。\\\n",
    "缺点：可能会产生过度匹配问题。\\\n",
    "适用数据类型：数值型和标称型"
   ]
  },
  {
   "cell_type": "markdown",
   "metadata": {},
   "source": [
    "### 决策树的一般流程"
   ]
  },
  {
   "cell_type": "markdown",
   "metadata": {},
   "source": [
    "收集数据：可以适用任何方法。\\\n",
    "准备数据：树构造算法只适用于标称型数据，因此数值型数据必须离散化。\\\n",
    "分析数据：可以使用任何方法，构造树完成之后，我们应该检查图形是否符合预期。\\\n",
    "训练算法：构造树的数据结构。\\\n",
    "测试算法：使用经验树计算错误率。\\\n",
    "使用算法：更好地理解数据内在含义。"
   ]
  },
  {
   "cell_type": "code",
   "execution_count": 7,
   "metadata": {
    "pycharm": {
     "name": "#%%\n"
    }
   },
   "outputs": [],
   "source": [
    "import os\n",
    "from collections import Counter\n",
    "\n",
    "import ipywidgets as widgets\n",
    "import pandas as pd\n",
    "\n",
    "from IPython.display import display,Latex\n",
    "from matplotlib import pyplot as plt\n",
    "\n",
    "from dataset_producer import Dataset\n",
    "\n",
    "import trees\n"
   ]
  },
  {
   "cell_type": "code",
   "execution_count": 8,
   "metadata": {},
   "outputs": [
    {
     "data": {
      "text/plain": "interactive(children=(Dropdown(description='path', options=('.\\\\dataset\\\\human.CSV', '.\\\\dataset\\\\lenses.txt',…",
      "application/vnd.jupyter.widget-view+json": {
       "version_major": 2,
       "version_minor": 0,
       "model_id": "d9b11378782a49c8901ead758cb9502a"
      }
     },
     "metadata": {},
     "output_type": "display_data"
    },
    {
     "data": {
      "text/plain": "<function __main__.show_data(path)>"
     },
     "execution_count": 8,
     "metadata": {},
     "output_type": "execute_result"
    }
   ],
   "source": [
    "DATA_DIR = \".\\dataset\"\n",
    "all_data_path = []\n",
    "for root, dirs, files in os.walk(DATA_DIR):\n",
    "    for file in files:\n",
    "        all_data_path.append(os.path.join(root, file))\n",
    "\n",
    "new_dataset=Dataset()\n",
    "def show_data(path):\n",
    "    global new_dataset\n",
    "    new_dataset=Dataset(path=path,haveHead=True)\n",
    "    display(new_dataset.data)\n",
    "widgets.interact(show_data,path=all_data_path)"
   ]
  },
  {
   "cell_type": "markdown",
   "metadata": {},
   "source": [
    "计算总信息熵"
   ]
  },
  {
   "cell_type": "code",
   "execution_count": 44,
   "metadata": {
    "scrolled": false
   },
   "outputs": [
    {
     "name": "stdout",
     "output_type": "stream",
     "text": [
      "贷款审批结果 Counter({'是': 9, '否': 6})\n"
     ]
    },
    {
     "data": {
      "text/plain": "<IPython.core.display.Latex object>",
      "text/latex": "$info(D)=-\\frac{9}{15}log_2(\\frac{9}{15})-\\frac{6}{15}log_2(\\frac{6}{15})=0.970951$"
     },
     "execution_count": 44,
     "metadata": {},
     "output_type": "execute_result"
    }
   ],
   "source": [
    "myDat=new_dataset.data.to_numpy()\n",
    "total_entropy=trees.calcShannonEnt(myDat)\n",
    "\n",
    "d=Counter(new_dataset.data.iloc[:,-1])\n",
    "print(new_dataset.head[-1],d)\n",
    "# fomula='$info(D)=-\\\\frac{9}{15}log_2(1)$'\n",
    "fomula='$info(D)='\n",
    "#每个label产生一个多项式\n",
    "for i in d:\n",
    "    term='-\\\\frac{%d}{%d}log_2(\\\\frac{%d}{%d})' %(d[i],new_dataset.size,d[i],new_dataset.size)\n",
    "    fomula+=term\n",
    "fomula+='=%f$'%total_entropy\n",
    "# print(fomula)\n",
    "Latex(fomula)"
   ]
  },
  {
   "cell_type": "markdown",
   "metadata": {},
   "source": [
    "计算条件信息熵和信息增益"
   ]
  },
  {
   "cell_type": "code",
   "execution_count": 43,
   "metadata": {},
   "outputs": [
    {
     "name": "stdout",
     "output_type": "stream",
     "text": [
      "(0, 年龄        老年\n",
      "是否工作       否\n",
      "是否有房子      是\n",
      "信贷情况      很好\n",
      "贷款审批结果     是\n",
      "Name: 0, dtype: object)\n",
      "(1, 年龄        老年\n",
      "是否工作       否\n",
      "是否有房子      是\n",
      "信贷情况      很好\n",
      "贷款审批结果     是\n",
      "Name: 1, dtype: object)\n",
      "(2, 年龄        老年\n",
      "是否工作       是\n",
      "是否有房子      否\n",
      "信贷情况       好\n",
      "贷款审批结果     是\n",
      "Name: 2, dtype: object)\n",
      "(3, 年龄        老年\n",
      "是否工作       是\n",
      "是否有房子      否\n",
      "信贷情况       好\n",
      "贷款审批结果     是\n",
      "Name: 3, dtype: object)\n",
      "(4, 年龄        老年\n",
      "是否工作       否\n",
      "是否有房子      否\n",
      "信贷情况      一般\n",
      "贷款审批结果     否\n",
      "Name: 4, dtype: object)\n",
      "(5, 年龄        中年\n",
      "是否工作       否\n",
      "是否有房子      否\n",
      "信贷情况      一般\n",
      "贷款审批结果     否\n",
      "Name: 5, dtype: object)\n",
      "(6, 年龄        中年\n",
      "是否工作       否\n",
      "是否有房子      否\n",
      "信贷情况       好\n",
      "贷款审批结果     否\n",
      "Name: 6, dtype: object)\n",
      "(7, 年龄        中年\n",
      "是否工作       是\n",
      "是否有房子      是\n",
      "信贷情况       好\n",
      "贷款审批结果     是\n",
      "Name: 7, dtype: object)\n",
      "(8, 年龄        中年\n",
      "是否工作       否\n",
      "是否有房子      是\n",
      "信贷情况      很好\n",
      "贷款审批结果     是\n",
      "Name: 8, dtype: object)\n",
      "(9, 年龄        中年\n",
      "是否工作       否\n",
      "是否有房子      是\n",
      "信贷情况      很好\n",
      "贷款审批结果     是\n",
      "Name: 9, dtype: object)\n",
      "(10, 年龄        青年\n",
      "是否工作       否\n",
      "是否有房子      否\n",
      "信贷情况      一般\n",
      "贷款审批结果     否\n",
      "Name: 10, dtype: object)\n",
      "(11, 年龄        青年\n",
      "是否工作       否\n",
      "是否有房子      否\n",
      "信贷情况       好\n",
      "贷款审批结果     否\n",
      "Name: 11, dtype: object)\n",
      "(12, 年龄        青年\n",
      "是否工作       是\n",
      "是否有房子      否\n",
      "信贷情况       好\n",
      "贷款审批结果     是\n",
      "Name: 12, dtype: object)\n",
      "(13, 年龄        青年\n",
      "是否工作       是\n",
      "是否有房子      是\n",
      "信贷情况      一般\n",
      "贷款审批结果     是\n",
      "Name: 13, dtype: object)\n",
      "(14, 年龄        青年\n",
      "是否工作       否\n",
      "是否有房子      否\n",
      "信贷情况      一般\n",
      "贷款审批结果     否\n",
      "Name: 14, dtype: object)\n"
     ]
    }
   ],
   "source": [
    "for i in new_dataset.data.iterrows():\n",
    "    print(i)\n",
    "# print(a)\n",
    "def compute_property(property:str):\n",
    "    show_info,bestFeat = trees.chooseBestFeatureToSplit(myDat)\n",
    "    print(show_info)\n",
    "compute_property(new_dataset.head[0])\n",
    "widgets.interact(compute_property,property=new_dataset.head[:-1])"
   ]
  },
  {
   "cell_type": "code",
   "execution_count": 5,
   "metadata": {},
   "outputs": [],
   "source": [
    "def createTree(dataSet,labels):\n",
    "    classList = [example[-1] for example in dataSet]\n",
    "    if classList.count(classList[0]) == len(classList):\n",
    "        return classList[0]#stop splitting when all of the classes are equal\n",
    "    if len(dataSet[0]) == 1: #stop splitting when there are no more features in dataSet\n",
    "        return trees.majorityCnt(classList)\n",
    "    show_info,bestFeat = trees.chooseBestFeatureToSplit(dataSet)\n",
    "    bestFeatLabel = labels[bestFeat]\n",
    "    myTree = {bestFeatLabel:{}}\n",
    "    del(labels[bestFeat])\n",
    "    featValues = [example[bestFeat] for example in dataSet]\n",
    "    uniqueVals = set(featValues)\n",
    "    for value in uniqueVals:\n",
    "        subLabels = labels[:]       #copy all of labels, so trees don't mess up existing labels\n",
    "        myTree[bestFeatLabel][value] = createTree(trees.splitDataSet(dataSet, bestFeat, value),subLabels)\n",
    "    return myTree"
   ]
  },
  {
   "cell_type": "code",
   "execution_count": 6,
   "metadata": {
    "pycharm": {
     "name": "#%%\n"
    }
   },
   "outputs": [
    {
     "name": "stderr",
     "output_type": "stream",
     "text": [
      "ERROR:root:Internal Python error in the inspect module.\n",
      "Below is the traceback from this internal error.\n",
      "\n"
     ]
    },
    {
     "name": "stdout",
     "output_type": "stream",
     "text": [
      "Traceback (most recent call last):\n",
      "  File \"C:\\Users\\DELL\\Anaconda3\\lib\\site-packages\\IPython\\core\\interactiveshell.py\", line 3326, in run_code\n",
      "    exec(code_obj, self.user_global_ns, self.user_ns)\n",
      "  File \"<ipython-input-6-22253ab382a4>\", line 3, in <module>\n",
      "    myTree  = trees.createTree(datas,labels)\n",
      "  File \"C:\\Users\\DELL\\PycharmProjects\\mywebsite\\tree\\trees.py\", line 100, in createTree\n",
      "    show_info,bestFeat = chooseBestFeatureToSplit(dataSet)\n",
      "  File \"C:\\Users\\DELL\\PycharmProjects\\mywebsite\\tree\\trees.py\", line 60, in chooseBestFeatureToSplit\n",
      "    total_d,baseEntropy = calcShannonEnt(dataSet)\n",
      "TypeError: cannot unpack non-iterable float object\n",
      "\n",
      "During handling of the above exception, another exception occurred:\n",
      "\n",
      "Traceback (most recent call last):\n",
      "  File \"C:\\Users\\DELL\\Anaconda3\\lib\\site-packages\\IPython\\core\\interactiveshell.py\", line 2040, in showtraceback\n",
      "    stb = value._render_traceback_()\n",
      "AttributeError: 'TypeError' object has no attribute '_render_traceback_'\n",
      "\n",
      "During handling of the above exception, another exception occurred:\n",
      "\n",
      "Traceback (most recent call last):\n",
      "  File \"C:\\Users\\DELL\\Anaconda3\\lib\\site-packages\\IPython\\core\\ultratb.py\", line 1101, in get_records\n",
      "    return _fixed_getinnerframes(etb, number_of_lines_of_context, tb_offset)\n",
      "  File \"C:\\Users\\DELL\\Anaconda3\\lib\\site-packages\\IPython\\core\\ultratb.py\", line 319, in wrapped\n",
      "    return f(*args, **kwargs)\n",
      "  File \"C:\\Users\\DELL\\Anaconda3\\lib\\site-packages\\IPython\\core\\ultratb.py\", line 353, in _fixed_getinnerframes\n",
      "    records = fix_frame_records_filenames(inspect.getinnerframes(etb, context))\n",
      "  File \"C:\\Users\\DELL\\Anaconda3\\lib\\inspect.py\", line 1502, in getinnerframes\n",
      "    frameinfo = (tb.tb_frame,) + getframeinfo(tb, context)\n",
      "  File \"C:\\Users\\DELL\\Anaconda3\\lib\\inspect.py\", line 1460, in getframeinfo\n",
      "    filename = getsourcefile(frame) or getfile(frame)\n",
      "  File \"C:\\Users\\DELL\\Anaconda3\\lib\\inspect.py\", line 696, in getsourcefile\n",
      "    if getattr(getmodule(object, filename), '__loader__', None) is not None:\n",
      "  File \"C:\\Users\\DELL\\Anaconda3\\lib\\inspect.py\", line 739, in getmodule\n",
      "    f = getabsfile(module)\n",
      "  File \"C:\\Users\\DELL\\Anaconda3\\lib\\inspect.py\", line 708, in getabsfile\n",
      "    _filename = getsourcefile(object) or getfile(object)\n",
      "  File \"C:\\Users\\DELL\\Anaconda3\\lib\\inspect.py\", line 693, in getsourcefile\n",
      "    if os.path.exists(filename):\n",
      "  File \"C:\\Users\\DELL\\Anaconda3\\lib\\genericpath.py\", line 19, in exists\n",
      "    os.stat(path)\n",
      "KeyboardInterrupt\n"
     ]
    },
    {
     "ename": "TypeError",
     "evalue": "cannot unpack non-iterable float object",
     "output_type": "error",
     "traceback": [
      "\u001B[1;31m---------------------------------------------------------------------------\u001B[0m"
     ]
    }
   ],
   "source": [
    "datas=new_dataset.data.values.tolist()\n",
    "labels=new_dataset.head[:-1]\n",
    "myTree  = trees.createTree(datas,labels)\n",
    "myTree"
   ]
  },
  {
   "cell_type": "markdown",
   "metadata": {},
   "source": [
    "使用matplotlib来绘制树形图"
   ]
  },
  {
   "cell_type": "code",
   "execution_count": null,
   "metadata": {
    "pycharm": {
     "name": "#%%\n"
    }
   },
   "outputs": [],
   "source": [
    "plt.rcParams['font.sans-serif'] = ['SimHei']\n",
    "trees.createPlot(myTree)"
   ]
  },
  {
   "cell_type": "code",
   "execution_count": null,
   "metadata": {},
   "outputs": [],
   "source": []
  }
 ],
 "metadata": {
  "kernelspec": {
   "display_name": "Python 3",
   "language": "python",
   "name": "python3"
  },
  "language_info": {
   "codemirror_mode": {
    "name": "ipython",
    "version": 3
   },
   "file_extension": ".py",
   "mimetype": "text/x-python",
   "name": "python",
   "nbconvert_exporter": "python",
   "pygments_lexer": "ipython3",
   "version": "3.7.4"
  }
 },
 "nbformat": 4,
 "nbformat_minor": 5
}