{
 "cells": [
  {
   "cell_type": "markdown",
   "metadata": {},
   "source": [
    "# <font color=Crimson size=6 face=\"宋体\" align=\"center\">k均值聚类算法（k-means clustering algorithm）</font>\n",
    "--------------"
   ]
  },
  {
   "cell_type": "markdown",
   "metadata": {},
   "source": [
    "# <font color=black size=5 face=\"宋体\" align=\"center\">k均值聚类算法是</font><font color=Crimson size=5 face=\"宋体\" align=\"center\">无监督</font><font color=black size=5 face=\"宋体\" align=\"center\">的</font><font color=Crimson size=5 face=\"宋体\" align=\"center\">聚类</font><font color=black size=5 face=\"宋体\" align=\"center\">算法</font>\n",
    "--------------\n",
    "<font color=black size=4 face=\"微软雅黑\" align=\"center\">聚类、无监督：样本无标签</font>\n",
    "\n",
    "<font color=black size=4 face=\"微软雅黑\" align=\"center\">分类、有监督：样本有标签</font>"
   ]
  },
  {
   "cell_type": "markdown",
   "metadata": {},
   "source": [
    "算法步骤\n",
    "\n",
    "1.初始化 K 个聚类中心\n",
    "\n",
    "2.按最小距离原则将其余样本分配到K个聚类中心中的某一个\n",
    "\n",
    "3.更新各个聚类中心\n",
    "\n",
    "4.如果中心没改变则算法收敛退出，否则跳到第2步循环执行"
   ]
  },
  {
   "cell_type": "markdown",
   "metadata": {},
   "source": [
    "<font color=black size=4 face=\"微软雅黑\" align=\"center\">接下来以二维模拟样本为例，使用Kmeans算法聚类</font>"
   ]
  },
  {
   "cell_type": "code",
   "execution_count": 1,
   "metadata": {},
   "outputs": [],
   "source": [
    "from __future__ import print_function\n",
    "\n",
    "import time\n",
    "\n",
    "import numpy as np\n",
    "\n",
    "import matplotlib.pyplot as plt\n",
    "from matplotlib.colors import TABLEAU_COLORS\n",
    "\n",
    "from IPython.display import display\n",
    "import ipywidgets as widgets\n",
    "from ipywidgets import interactive, Layout\n",
    "import pylab\n",
    "\n",
    "import os\n",
    "import sys\n",
    "\n",
    "sys.path.append(\"..\")\n",
    "from dataset_producer import Dataset, rand_uniform_data\n",
    "from kmeans_algo import kmeans, randCentroids\n"
   ]
  },
  {
   "cell_type": "code",
   "execution_count": null,
   "metadata": {},
   "outputs": [],
   "source": []
  },
  {
   "cell_type": "markdown",
   "metadata": {},
   "source": [
    "# 导入原始数据\n",
    "## 看看不同的数据集，或者生成自己的数据吧\n",
    "#### 注：生成的随机数据集存入tempSet.txt\n",
    "TODO:\n",
    "添加样本点更多、数据分布不同的数据集"
   ]
  },
  {
   "cell_type": "code",
   "execution_count": 2,
   "metadata": {
    "pycharm": {
     "name": "#%%\n"
    }
   },
   "outputs": [
    {
     "data": {
      "application/vnd.jupyter.widget-view+json": {
       "model_id": "166f7ae1a24f485b82baa9e7938e5789",
       "version_major": 2,
       "version_minor": 0
      },
      "text/plain": [
       "IntSlider(value=100, description='生成数据个数', max=2000, min=10)"
      ]
     },
     "metadata": {},
     "output_type": "display_data"
    },
    {
     "data": {
      "application/vnd.jupyter.widget-view+json": {
       "model_id": "f1fca115e3b7406ab539793174b590b6",
       "version_major": 2,
       "version_minor": 0
      },
      "text/plain": [
       "Button(description='生成随机数据集', style=ButtonStyle())"
      ]
     },
     "metadata": {},
     "output_type": "display_data"
    },
    {
     "data": {
      "application/vnd.jupyter.widget-view+json": {
       "model_id": "d1f7976629044ede8cda2acbe409cb63",
       "version_major": 2,
       "version_minor": 0
      },
      "text/plain": [
       "interactive(children=(Dropdown(description='filename', options=('testdata/barsSet.txt', 'testdata/blobSet.txt'…"
      ]
     },
     "metadata": {},
     "output_type": "display_data"
    },
    {
     "data": {
      "application/vnd.jupyter.widget-view+json": {
       "model_id": "958067c2bffe4c34a6a75610652e43da",
       "version_major": 2,
       "version_minor": 0
      },
      "text/plain": [
       "HBox(children=(Output(layout=Layout(flex='3 1 0%', width='auto')), Output(layout=Layout(flex='2 1 0%', width='…"
      ]
     },
     "metadata": {},
     "output_type": "display_data"
    }
   ],
   "source": [
    "#数据集存放位置\n",
    "DATA_DIR = \"testdata/\"\n",
    "all_data_path = []\n",
    "for root, dirs, files in os.walk(DATA_DIR):\n",
    "    for file in files:\n",
    "        all_data_path.append(os.path.join(root, file))\n",
    "\n",
    "#可交互文件选择模块\n",
    "iw_filename = widgets.Dropdown(options=all_data_path, description='选择数据集:')\n",
    "w_gen_button = widgets.Button(description='生成随机数据集')\n",
    "w_output = widgets.Output(layout=Layout(flex='2 1 0%', width='auto'))\n",
    "w_draw_output = widgets.Output(layout=Layout(flex='3 1 0%', width='auto'))\n",
    "w_rand_size = widgets.IntSlider(value=100, min=10, max=2000, description='生成数据个数')\n",
    "\n",
    "new_dataset = Dataset()\n",
    "\n",
    "\n",
    "def gen_rand_data(b):\n",
    "    \"\"\"\n",
    "    点击按钮生成随机数据集，写入testdata，并展示\n",
    "    :param b:按钮控件\n",
    "    :return:\n",
    "    \"\"\"\n",
    "    \n",
    "    %matplotlib inline\n",
    "    import matplotlib.pyplot as plt\n",
    "    \n",
    "    global new_dataset\n",
    "    new_dataset = rand_uniform_data(n=w_rand_size.value, d=2)\n",
    "    with w_output:\n",
    "        w_output.clear_output(wait=True)\n",
    "        display(new_dataset.data)\n",
    "    with w_draw_output:\n",
    "        w_draw_output.clear_output(wait=True)\n",
    "        new_dataset.draw_2D_data()\n",
    "        plt.show()  #不加这个会导致多张图片生成\n",
    "\n",
    "\n",
    "def choose_show(filename):\n",
    "    \"\"\"\n",
    "    选择原有数据集，展示原始数据\n",
    "    :param filename: 文件路径\n",
    "    :return:\n",
    "    \"\"\"\n",
    "    \n",
    "    %matplotlib inline\n",
    "    import matplotlib.pyplot as plt\n",
    "    \n",
    "    global new_dataset\n",
    "\n",
    "    new_dataset = Dataset(path=filename)\n",
    "    with w_output:\n",
    "        w_output.clear_output(wait=True)\n",
    "        display(new_dataset.data)\n",
    "    with w_draw_output:\n",
    "        w_draw_output.clear_output(wait=True)\n",
    "        new_dataset.draw_2D_data()\n",
    "        plt.show()\n",
    "\n",
    "\n",
    "w_gen_button.on_click(gen_rand_data)\n",
    "a = interactive(choose_show, filename=all_data_path)\n",
    "items=[w_draw_output, w_output]\n",
    "# 控件排版\n",
    "display(w_rand_size, w_gen_button, a)\n",
    "display(widgets.HBox(items))"
   ]
  },
  {
   "cell_type": "code",
   "execution_count": null,
   "metadata": {},
   "outputs": [],
   "source": []
  },
  {
   "cell_type": "markdown",
   "metadata": {
    "pycharm": {
     "name": "#%% md\n"
    }
   },
   "source": [
    "# Kmeans算法部分\n",
    "## 初始化K个聚类中心$M_1 (0),M_2 (0),…,M_K (0)$\n",
    "### 鼠标添加你的聚类中心，或者随机生成K个中心"
   ]
  },
  {
   "cell_type": "code",
   "execution_count": 3,
   "metadata": {
    "pycharm": {
     "is_executing": true,
     "name": "#%%\n"
    },
    "scrolled": false
   },
   "outputs": [
    {
     "data": {
      "application/vnd.jupyter.widget-view+json": {
       "model_id": "74946a0907c843a18ea4a4be044d8e82",
       "version_major": 2,
       "version_minor": 0
      },
      "text/plain": [
       "IntSlider(value=0, description='K', max=10)"
      ]
     },
     "metadata": {},
     "output_type": "display_data"
    },
    {
     "data": {
      "application/vnd.jupyter.widget-view+json": {
       "model_id": "40000245dc234796ad644282bb9bca1f",
       "version_major": 2,
       "version_minor": 0
      },
      "text/plain": [
       "Button(description='生成中心点', style=ButtonStyle())"
      ]
     },
     "metadata": {},
     "output_type": "display_data"
    },
    {
     "data": {
      "application/vnd.jupyter.widget-view+json": {
       "model_id": "8b65fa65aff34570bf3369cd84ff5428",
       "version_major": 2,
       "version_minor": 0
      },
      "text/plain": [
       "Output()"
      ]
     },
     "metadata": {},
     "output_type": "display_data"
    }
   ],
   "source": [
    "centroids: np.ndarray = None\n",
    "\n",
    "w_centroids_button = widgets.Button(description='生成中心点')\n",
    "K_widget = widgets.IntSlider(value=0, min=0, max=10, step=1, description='K')\n",
    "centroid_output = widgets.Output()\n",
    "def centroids_show(b):\n",
    "    \n",
    "    %matplotlib notebook\n",
    "    import matplotlib.pyplot as plt\n",
    "    \n",
    "    global centroids\n",
    "    centroids = randCentroids(x=new_dataset.numpydata, k=K_widget.value)\n",
    "    \n",
    "    def onclick(event):\n",
    "        \"\"\"\n",
    "        matplotlib图片点击事件\n",
    "        \"\"\"\n",
    "        global centroids\n",
    "        ax.plot(event.xdata, event.ydata, 'ro', linewidth=20)\n",
    "        #全局变量记录下鼠标点击的位置\n",
    "        centroids = np.append(centroids, [[event.xdata, event.ydata]], axis=0)\n",
    "        tx = 'xdata=%f, ydata=%f, k=%d' % (event.xdata, event.ydata, centroids.shape[0])\n",
    "        text.set_text(tx)\n",
    "        plt.gcf().canvas.draw_idle()\n",
    "    \n",
    "    with centroid_output:\n",
    "        centroid_output.clear_output()\n",
    "        print(\"中心点的坐标是\\n\", centroids)    \n",
    "        fig, ax = new_dataset.draw_2D_data()\n",
    "        ax.scatter(centroids[:, 0], centroids[:, 1], c='r')\n",
    "        text = fig.text(0, 0.9, \"\", va=\"bottom\", ha=\"left\", fontsize=17)\n",
    "        cid = fig.canvas.mpl_connect('button_press_event', onclick)\n",
    "        \n",
    "\n",
    "w_centroids_button.on_click(centroids_show)\n",
    "display(K_widget, w_centroids_button, centroid_output)"
   ]
  },
  {
   "cell_type": "code",
   "execution_count": null,
   "metadata": {},
   "outputs": [],
   "source": []
  },
  {
   "cell_type": "markdown",
   "metadata": {},
   "source": [
    "# 聚类结果"
   ]
  },
  {
   "cell_type": "code",
   "execution_count": null,
   "metadata": {
    "pycharm": {
     "is_executing": true
    }
   },
   "outputs": [],
   "source": [
    "%matplotlib inline\n",
    "import matplotlib.pyplot as plt\n",
    "\n",
    "info_list = kmeans(data=new_dataset.numpydata, centroids=centroids)\n",
    "\n",
    "fig_out,clstAss_out=widgets.Output(),widgets.Output()\n",
    "\n",
    "legend_handles=[]\n",
    "plt.figure(figsize=(8,8))\n",
    "for i in range(centroids.shape[0]):\n",
    "    clst = new_dataset.numpydata[np.where(info_list[-1].clstAss[:, 0].ravel() == i)]\n",
    "    tmp=plt.scatter(clst[:, 0], clst[:, 1], marker='x', c=list(TABLEAU_COLORS)[i])\n",
    "    legend_handles.append(tmp)\n",
    "    plt.scatter(info_list[-1].cent[i, 0], info_list[-1].cent[i, 1],\n",
    "                marker='o', c=list(TABLEAU_COLORS)[i],linewidths=10)\n",
    "plt.xlabel('X1')\n",
    "plt.ylabel('X2')\n",
    "plt.legend(handles=legend_handles,labels=range(centroids.shape[0]))\n",
    "plt.title(\"result\")\n",
    "with fig_out:\n",
    "    plt.show()\n",
    "with clstAss_out:\n",
    "    print(\"x\\ty\\tclass\\tSE\")\n",
    "    for i in range(new_dataset.size):\n",
    "        print(\"%f\\t%f\\t%d\\t%f\"%(new_dataset.numpydata[i][0],new_dataset.numpydata[i][1],info_list[-1].clstAss[i][0],info_list[-1].clstAss[i][1]))\n",
    "widgets.HBox([fig_out,clstAss_out])"
   ]
  },
  {
   "cell_type": "markdown",
   "metadata": {},
   "source": [
    "# 分步观察Kmeans算法的运行过程"
   ]
  },
  {
   "cell_type": "code",
   "execution_count": null,
   "metadata": {
    "pycharm": {
     "is_executing": true
    }
   },
   "outputs": [],
   "source": [
    "def show_j(n):\n",
    "    j_i=[0]*centroids.shape[0]\n",
    "    for i in range(centroids.shape[0]):\n",
    "        #找出第i类样本的下标\n",
    "        clst_idx = np.where(info_list[n].clstAss[:, 0].ravel() == i)\n",
    "        #对应第i类的距离平方\n",
    "        clst_se=info_list[n].clstAss[:, 1][clst_idx]\n",
    "        j_i[i]=sum(clst_se)\n",
    "    j=sum(j_i)\n",
    "    with j_out:\n",
    "        j_out.clear_output()\n",
    "        for i in range(centroids.shape[0]):\n",
    "            print(\"J%d=%f\"%(i,j_i[i]))\n",
    "        print(\"J=%f\" % j)\n",
    "\n",
    "def processing_display(n):\n",
    "    n -= 1\n",
    "    process = '分配样本' if n % 2 == 0 else '重新计算中心'\n",
    "    plt.figure(figsize=(8,8))\n",
    "    legend_handles=[]\n",
    "    #对于每个类别分别绘制\n",
    "    for i in range(centroids.shape[0]):\n",
    "        #找出第i类样本的下标\n",
    "        clst_idx = np.where(info_list[n].clstAss[:, 0].ravel() == i)\n",
    "        #获取i类数据\n",
    "        clst_coordinate = new_dataset.numpydata[clst_idx]\n",
    "        #绘制第i个类别的样本\n",
    "        tmp=plt.scatter(clst_coordinate[:, 0], clst_coordinate[:, 1], marker='x', c=list(TABLEAU_COLORS)[i])\n",
    "        legend_handles.append(tmp)\n",
    "        #绘制第i个类别的中心\n",
    "        plt.scatter(info_list[n].cent[i, 0], info_list[n].cent[i, 1],\n",
    "                    marker='o', c=list(TABLEAU_COLORS)[i],linewidths=10)\n",
    "        #绘制第i个中心的轨迹\n",
    "        x=[info_list[j].cent[i,0] for j in range(n+1)]\n",
    "        y=[info_list[j].cent[i,1] for j in range(n+1)]\n",
    "        plt.plot(x,y,\"b-o\",c=list(TABLEAU_COLORS)[i])\n",
    "    plt.xlabel('X1')\n",
    "    plt.ylabel('X2')\n",
    "    plt.legend(handles=legend_handles,labels=range(centroids.shape[0]))\n",
    "    plt.rcParams['font.sans-serif'] = ['KaiTi']  #中文标题\n",
    "    plt.rcParams['axes.unicode_minus'] = False  #坐标负号不显示bug\n",
    "    plt.title(\"第%d轮迭代，%s的结果\" % ((n // 2 + 1), process), fontsize=17)\n",
    "    with media_out:\n",
    "        media_out.clear_output()\n",
    "        plt.show()\n",
    "\n",
    "j_out=widgets.Output()\n",
    "media_out = widgets.Output()\n",
    "n_widget = widgets.IntSlider(min=1, max=len(info_list), description='',\n",
    "                             continuous_update=False)\n",
    "play_widget = widgets.Play(interval=5000,value=1,min=1,max=len(info_list),step=1,\n",
    "                           description=\"Press play\",disabled=False)\n",
    "\n",
    "widgets.jslink((play_widget, 'value'), (n_widget, 'value'))\n",
    "# display(play_widget, b, media_out,j_out)"
   ]
  },
  {
   "cell_type": "markdown",
   "metadata": {},
   "source": [
    "### 中心的移动 $$M_j(k+1)=\\frac{1}{|\\omega_j|}\\displaystyle \\sum^{}_{\\textbf x \\in \\omega_j}{\\textbf x}\\qquad,j=1,2,...,K$$\n",
    "### 样本的分配 $$若j=\\mathop{\\arg\\min}\\limits_{i\\in[1,K]}\\{||\\textbf x-M_j(k)||\\}，则\\textbf x\\in\\omega_j$$\n",
    "### 误差平方和 $$J=\\displaystyle \\sum^{K}_{j=1}{J_j}=\\displaystyle \\sum^{K}_{j=1}{\\displaystyle \\sum^{}_{\\textbf x \\in \\omega_j}{||\\textbf x-M_j||^2}}$$"
   ]
  },
  {
   "cell_type": "code",
   "execution_count": null,
   "metadata": {
    "pycharm": {
     "is_executing": true
    }
   },
   "outputs": [],
   "source": [
    "b = interactive(processing_display, n=n_widget)\n",
    "c= interactive(show_j,n=n_widget)\n",
    "widgets.HBox([media_out,widgets.VBox([play_widget,b,j_out])])"
   ]
  },
  {
   "cell_type": "markdown",
   "metadata": {
    "pycharm": {
     "name": "#%% md\n"
    }
   },
   "source": [
    "# Kmeans算法的局限性\n",
    "## 换用不同的数据，选用不同的中心试试吧！\n",
    "### eg：moonset、circleset\n",
    "TODO:\n",
    "1.依赖初始聚类中心\n",
    "2.K值的选择\n",
    "3.适用的数据类型"
   ]
  },
  {
   "cell_type": "markdown",
   "metadata": {},
   "source": [
    "# 扩展资料\n",
    "[KMEANS交互可視化](https://www.naftaliharris.com/blog/visualizing-k-means-clustering/)"
   ]
  },
  {
   "cell_type": "code",
   "execution_count": null,
   "metadata": {
    "pycharm": {
     "is_executing": true
    }
   },
   "outputs": [],
   "source": []
  }
 ],
 "metadata": {
  "kernelspec": {
   "display_name": "Python 3 (ipykernel)",
   "language": "python",
   "name": "python3"
  },
  "language_info": {
   "codemirror_mode": {
    "name": "ipython",
    "version": 3
   },
   "file_extension": ".py",
   "mimetype": "text/x-python",
   "name": "python",
   "nbconvert_exporter": "python",
   "pygments_lexer": "ipython3",
   "version": "3.10.4"
  }
 },
 "nbformat": 4,
 "nbformat_minor": 2
}