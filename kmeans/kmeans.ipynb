{
 "cells": [
  {
   "cell_type": "markdown",
   "metadata": {},
   "source": [
    "# <font color=Crimson size=6 face=\"宋体\" align=\"center\">k均值聚类算法（k-means clustering algorithm）</font>     \n",
    "--------------"
   ]
  },
  {
   "cell_type": "markdown",
   "metadata": {},
   "source": [
    "[KMEANS交互可視化](https://www.naftaliharris.com/blog/visualizing-k-means-clustering/)\n",
    "\n",
    "kmeans算法是无监督的聚类算法\n",
    "\n",
    "以二维模拟样本为例，使用Kmeans算法聚类"
   ]
  },
  {
   "cell_type": "code",
   "execution_count": 1,
   "metadata": {},
   "outputs": [],
   "source": [
    "from __future__ import print_function\n",
    "import numpy as np\n",
    "import pandas as pd\n",
    "import matplotlib.pyplot as plt\n",
    "from IPython.display import display\n",
    "import ipywidgets as widgets\n",
    "import pylab\n",
    "import os\n",
    "from ipywidgets import interact, interactive, fixed, interactive_output\n",
    "\n",
    "from dataset_producer import Dataset,rand_uniform_data\n",
    "\n",
    "FIG_SIZE=(8,8)\n",
    "pylab.rcParams['figure.figsize'] = FIG_SIZE\n",
    "TEMP_FILE='tempSet.txt'"
   ]
  },
  {
   "cell_type": "markdown",
   "metadata": {},
   "source": [
    "## 导入原始数据(import the dataset)\n",
    "TODO:\n",
    "添加样本点更多、数据分布不同的数据集"
   ]
  },
  {
   "cell_type": "code",
   "execution_count": 2,
   "metadata": {
    "pycharm": {
     "name": "#%%\n"
    }
   },
   "outputs": [
    {
     "ename": "SyntaxError",
     "evalue": "no binding for nonlocal 'new_dataset' found (<ipython-input-2-d2ff64108427>, line 41)",
     "output_type": "error",
     "traceback": [
      "\u001B[1;36m  File \u001B[1;32m\"<ipython-input-2-d2ff64108427>\"\u001B[1;36m, line \u001B[1;32m41\u001B[0m\n\u001B[1;33m    nonlocal new_dataset\u001B[0m\n\u001B[1;37m    ^\u001B[0m\n\u001B[1;31mSyntaxError\u001B[0m\u001B[1;31m:\u001B[0m no binding for nonlocal 'new_dataset' found\n"
     ]
    }
   ],
   "source": [
    "#数据集存放位置\n",
    "DATA_DIR=\"testdata/\"\n",
    "all_data_path=[]\n",
    "for root, dirs, files in os.walk(DATA_DIR):\n",
    "    for file in files:\n",
    "        all_data_path.append(os.path.join(root,file))\n",
    "        \n",
    "#可交互文件选择模块\n",
    "iw_filename=widgets.Dropdown(options=all_data_path,description='选择原有数据集（生成的数据集为%s）:'%TEMP_FILE)\n",
    "\n",
    "w_gen_button=widgets.Button(description='生成随机数据集')\n",
    "\n",
    "w_output=widgets.Output()\n",
    "w_draw_output=widgets.Output()\n",
    "\n",
    "w_rand_size=widgets.IntSlider(value=100,min=10,max=10000,description='生成数据个数')\n",
    "\n",
    "new_dataset=None\n",
    "def gen_rand_data(b):\n",
    "    \"\"\"\n",
    "    点击按钮生成随机数据集，写入testdata，并展示\n",
    "    :param b:按钮控件\n",
    "    :return:\n",
    "    \"\"\"\n",
    "    global new_dataset\n",
    "    new_dataset=rand_uniform_data(n=w_rand_size.value,d=2)\n",
    "    new_dataset.path='testdata/'+TEMP_FILE\n",
    "    new_dataset.write_data()\n",
    "    with w_output:\n",
    "        w_output.clear_output(wait=True)\n",
    "        new_dataset.show_data()\n",
    "    with w_draw_output:\n",
    "        w_draw_output.clear_output(wait=True)\n",
    "        new_dataset.draw_2D_data()\n",
    "        plt.show() #不加这个会导致多张图片生成\n",
    "\n",
    "def choose_show(filename):\n",
    "    \"\"\"\n",
    "    选择原有数据集，展示原始数据\n",
    "    :param filename: 文件路径\n",
    "    :return:\n",
    "    \"\"\"\n",
    "    global new_dataset\n",
    "    new_dataset=Dataset(path=filename)\n",
    "    with w_output:\n",
    "        w_output.clear_output(wait=True)\n",
    "        new_dataset.show_data()\n",
    "    with w_draw_output:\n",
    "        w_draw_output.clear_output(wait=True)\n",
    "        new_dataset.draw_2D_data()\n",
    "        plt.show()\n",
    "\n",
    "w_gen_button.on_click(gen_rand_data)\n",
    "a=interactive(choose_show,filename=all_data_path)\n",
    "# 控件排版\n",
    "widgets.VBox([w_rand_size,w_gen_button,a,widgets.HBox([w_draw_output,w_output])])"
   ]
  },
  {
   "cell_type": "markdown",
   "metadata": {
    "pycharm": {
     "name": "#%% md\n"
    }
   },
   "source": [
    "Kmeans算法"
   ]
  },
  {
   "cell_type": "markdown",
   "metadata": {},
   "source": [
    "初始化聚类中心\n",
    "\n",
    "TODO:\n",
    "1.更新K值全部初始化中心点\n",
    "2.按钮添加一个随机中心点\n",
    "3.输入坐标添加中心点"
   ]
  },
  {
   "cell_type": "code",
   "execution_count": null,
   "outputs": [],
   "source": [
    "\n",
    "\n",
    "def plot_data(x,idx,K,cent,centroids,cnt):\n",
    "    m=x.shape[0]\n",
    "    tmp_idx=[]\n",
    "    color_list=['r','g','y','b','m','orange']\n",
    "    tmp_idx=idx[:,0].tolist() #要把numpyfloat64转换为list int\n",
    "    for i in range(m):\n",
    "        plt.scatter(x[i,0],x[i,1],marker='x',color=color_list[int(tmp_idx[i])])\n",
    "\n",
    "   # plt.scatter(centroids[:,0],centroids[:,1],marker='o',color = 'black',linewidths=10)\n",
    "\n",
    "    for k in range(K):\n",
    "        plt.scatter(centroids[k,0],centroids[k,1],marker='o',color = color_list[k],linewidths=10)\n",
    "        plt.plot(np.array(cent[\"%d\"%(k)])[:,0],np.array(cent[\"%d\"%(k)])[:,1],\"b-o\",color=color_list[k])\n",
    "    plt.xlabel('X1')\n",
    "    plt.ylabel('X2')\n",
    "    plt.title(\"figure %d\"%(cnt))\n",
    "    plt.subplots_adjust(wspace=0)\n",
    "    plt.savefig(\"figure %d.jpg\"%(cnt),dpi=300)\n",
    "    plt.show()\n",
    "\n",
    "def randCentroids(x:np.array,k:int)->np.array:\n",
    "    \"\"\"\n",
    "    随机初始化centroids ,随机选择k个样本点作为质心\n",
    "    :param x:numpy_data\n",
    "    :param k:随机选取k个\n",
    "    :return:选取的中心点\n",
    "    \"\"\"\n",
    "    m,n = x.shape # m=80个数据，n=2维\n",
    "    centroids = np.zeros((k,n)) #产生k个 [0 0]的数据\n",
    "    randIndex = np.random.choice(m,k) #从m个数据中选k个randindex\n",
    "    centroids = x[randIndex]\n",
    "    return centroids\n",
    "\n",
    "# 可交互K值选择\n",
    "w_centroids_button=widgets.Button(description='生成中心点')\n",
    "K_widget=widgets.IntSlider(value=4,min=1, max=6, step=1)\n",
    "interact(randCentroids,k=K_widget)"
   ],
   "metadata": {
    "collapsed": false,
    "pycharm": {
     "name": "#%%\n"
    }
   }
  },
  {
   "cell_type": "code",
   "execution_count": null,
   "metadata": {},
   "outputs": [],
   "source": [
    "#计算距离\n",
    "def computeDistance(A,B):\n",
    "    return np.sqrt(np.sum(np.square(A-B)))\n",
    "\n",
    "#计算x的均值，改变centroids\n",
    "def change_centroids(x,idx,K):\n",
    "    m,n = x.shape\n",
    "    centroids = np.zeros((K,n))\n",
    "    for i in range(K):\n",
    "        index = np.where(idx[:,0].ravel() == i)\n",
    "        centroids[i] = np.mean(x[index],axis=0)\n",
    "    return centroids\n",
    "\n",
    "#为数据集x找到最近的质心,直到质心不变为止   \n",
    "def kmeans(x,K):\n",
    "    #1.初始化质心\n",
    "    centroids = randCentroids(x,K)\n",
    "    m = x.shape[0]\n",
    "    idx = np.zeros((x.shape[0],2)) #记录x对应的质心的下标 + 平方误差\n",
    "    clusterchanged = True #记录分类是否变化\n",
    "    cent = {} #用字典，来存储各个质心的变化\n",
    "    cnt=0 #记录分配点的次数\n",
    "    \n",
    "    # 初始化质心字典\n",
    "    for k in range(K):\n",
    "        cent[\"%d\"%(k)] = []\n",
    "        cent[\"%d\"%(k)].append(centroids[k,:].tolist())\n",
    "        \n",
    "    while clusterchanged:\n",
    "        \n",
    "        clusterchanged = False\n",
    "        #2.为每个样本点分配质心\n",
    "        for i in range(m):\n",
    "            minDist = np.inf\n",
    "            minIndex = -1\n",
    "            for j in range(K):\n",
    "                distance = computeDistance(x[i,:],centroids[j,:])\n",
    "                if distance<minDist:\n",
    "                    minDist = distance\n",
    "                    minIndex = j\n",
    "            if idx[i,0] != minIndex:\n",
    "                clusterchanged = True\n",
    "            idx[i,:] = minIndex, minDist**2\n",
    "        #分配完点之后的情况输出一下\n",
    "        cnt=cnt+1\n",
    "        plot_data(x,idx,K,cent,centroids,cnt)\n",
    "        #3.更新质心的位置\n",
    "        centroids = change_centroids(x,idx,K)\n",
    "        # 4.更新质心字典\n",
    "        for k in range(K):\n",
    "            cent[\"%d\"%(k)].append(centroids[k,:].tolist())\n",
    "    plot_data(x,idx,K,cent,centroids,cnt)\n",
    "    \n",
    "    return centroids,idx,cent,cnt\n",
    "\n"
   ]
  },
  {
   "cell_type": "code",
   "execution_count": null,
   "metadata": {},
   "outputs": [],
   "source": [
    "K_widget=widgets.IntSlider(value=4,min=1, max=6, step=1, continuous_update=False)\n",
    "display(K_widget)\n",
    "pylab.rcParams['figure.figsize'] = FIG_SIZE\n",
    "centroids,idx,cent,cnt = kmeans(new_dataset.data,K_widget.value)"
   ]
  },
  {
   "cell_type": "code",
   "execution_count": null,
   "metadata": {},
   "outputs": [],
   "source": [
    "\n",
    "def choose_display(n):\n",
    "    pylab.rcParams['figure.figsize'] = FIG_SIZE\n",
    "    a=plt.imread(\"figure %d.jpg\"%(n))\n",
    "    plt.axis(\"off\")\n",
    "    plt.imshow(a)\n",
    "\n",
    "n_widget=widgets.IntSlider(min=1,max=cnt,description='迭代次数')\n",
    "play_widget = widgets.Play(\n",
    "    interval=2000,\n",
    "    value=1,\n",
    "    min=1,\n",
    "    max=cnt,\n",
    "    step=1,\n",
    "    description=\"Press play\",\n",
    "    disabled=False\n",
    ")\n",
    "\n",
    "widgets.jslink((play_widget, 'value'), (n_widget, 'value'))\n",
    "out = widgets.interactive_output(choose_display, {'n': n_widget})\n",
    "# widgets.VBox([widgets.HBox([play_widget,n_widget]), out])\n",
    "display(play_widget,n_widget,out)"
   ]
  },
  {
   "cell_type": "markdown",
   "metadata": {
    "pycharm": {
     "name": "#%% md\n"
    }
   },
   "source": [
    "Kmeans算法的局限性\n",
    "\n",
    "TODO:\n",
    "1.依赖初始聚类中心\n",
    "2.K值的选择\n",
    "3.适用的数据类型"
   ]
  }
 ],
 "metadata": {
  "kernelspec": {
   "display_name": "Python 3",
   "language": "python",
   "name": "python3"
  },
  "language_info": {
   "codemirror_mode": {
    "name": "ipython",
    "version": 3
   },
   "file_extension": ".py",
   "mimetype": "text/x-python",
   "name": "python",
   "nbconvert_exporter": "python",
   "pygments_lexer": "ipython3",
   "version": "3.7.4"
  }
 },
 "nbformat": 4,
 "nbformat_minor": 2
}