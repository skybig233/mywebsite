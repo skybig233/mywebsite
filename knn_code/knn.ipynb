{
 "cells": [
  {
   "cell_type": "code",
   "execution_count": 15,
   "metadata": {},
   "outputs": [],
   "source": [
    "from __future__ import print_function\n",
    "import numpy as np\n",
    "import pandas as pd\n",
    "import matplotlib.pyplot as plt\n",
    "from IPython.display import display\n",
    "import ipywidgets as widgets\n",
    "import pylab\n",
    "import os\n",
    "\n",
    "from dataset_producer import Dataset\n",
    "\n",
    "FIG_SIZE=(8,8)"
   ]
  },
  {
   "cell_type": "code",
   "execution_count": 16,
   "metadata": {},
   "outputs": [
    {
     "data": {
      "application/vnd.jupyter.widget-view+json": {
       "model_id": "198ed2d9ba9f4a6ba7870c09e36235e0",
       "version_major": 2,
       "version_minor": 0
      },
      "text/plain": [
       "interactive(children=(Dropdown(description='选择数据集:', options=('testdata/circlesSet.txt', 'testdata/datingTestS…"
      ]
     },
     "metadata": {},
     "output_type": "display_data"
    }
   ],
   "source": [
    "#数据集存放位置\n",
    "DATA_DIR=\"testdata/\"\n",
    "all_data_path=[]\n",
    "for root, dirs, files in os.walk(DATA_DIR):\n",
    "    for file in files:\n",
    "        all_data_path.append(os.path.join(root,file))\n",
    "        \n",
    "#可交互文件选择模块\n",
    "iw_filename=widgets.Dropdown(\n",
    "    options=all_data_path,\n",
    "    description='选择数据集:',\n",
    "    disabled=False,\n",
    ")\n",
    "\n",
    "def choose_show(filename):\n",
    "    \"\"\"\n",
    "    选择原有数据集，展示原始数据\n",
    "    :param b: 无意义\n",
    "    :return:\n",
    "    \"\"\"\n",
    "    new_dataset=Dataset(path=filename,isLabeled=True)\n",
    "    new_dataset.show_data()\n",
    "\n",
    "data_show=widgets.interactive(choose_show,filename=iw_filename)\n",
    "display(data_show)"
   ]
  },
  {
   "cell_type": "code",
   "execution_count": 17,
   "metadata": {},
   "outputs": [
    {
     "data": {
      "application/vnd.jupyter.widget-view+json": {
       "model_id": "f8887fd439264cabbdb1b9ffd0a0dc3e",
       "version_major": 2,
       "version_minor": 0
      },
      "text/plain": [
       "interactive(children=(Dropdown(description='选择数据集:', index=4, options=('testdata/circlesSet.txt', 'testdata/da…"
      ]
     },
     "metadata": {},
     "output_type": "display_data"
    }
   ],
   "source": [
    "\"\"\"\n",
    "对于给定数据集进行相关处理并展示\n",
    "\"\"\"\n",
    "# w_draw_output=widgets.Output()\n",
    "\n",
    "def choose_draw(filename):\n",
    "    \"\"\"\n",
    "    数据集选择流程\n",
    "    用户通过下拉菜单选择数据集\n",
    "    进行相关处理并展示\n",
    "    :param filename:widget传入的文件名\n",
    "    \"\"\"\n",
    "    pylab.rcParams['figure.figsize'] = FIG_SIZE\n",
    "    new_dataset=Dataset(path=filename,isLabeled=True)\n",
    "    new_dataset.draw_2D_data()\n",
    "\n",
    "data_draw=widgets.interactive(choose_draw,filename=iw_filename)\n",
    "display(data_draw)"
   ]
  },
  {
   "cell_type": "markdown",
   "metadata": {
    "pycharm": {
     "name": "#%% md\n"
    }
   },
   "source": [
    "生成测试样本点"
   ]
  },
  {
   "cell_type": "code",
   "execution_count": 3,
   "metadata": {
    "pycharm": {
     "name": "#%%\n"
    }
   },
   "outputs": [],
   "source": []
  }
 ],
 "metadata": {
  "kernelspec": {
   "display_name": "Python 3",
   "language": "python",
   "name": "python3"
  },
  "language_info": {
   "codemirror_mode": {
    "name": "ipython",
    "version": 3
   },
   "file_extension": ".py",
   "mimetype": "text/x-python",
   "name": "python",
   "nbconvert_exporter": "python",
   "pygments_lexer": "ipython3",
   "version": "3.7.4"
  }
 },
 "nbformat": 4,
 "nbformat_minor": 1
}