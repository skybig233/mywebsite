{
 "cells": [
  {
   "cell_type": "code",
   "execution_count": 7,
   "metadata": {
    "pycharm": {
     "is_executing": true
    }
   },
   "outputs": [],
   "source": [
    "from __future__ import print_function\n",
    "import numpy as np\n",
    "import pandas as pd\n",
    "import matplotlib.pyplot as plt\n",
    "from IPython.display import display\n",
    "import ipywidgets as widgets\n",
    "import pylab\n",
    "import os\n",
    "\n",
    "from dataset_producer import Dataset\n",
    "\n",
    "FIG_SIZE=(8,8)"
   ]
  },
  {
   "cell_type": "code",
   "execution_count": 8,
   "metadata": {
    "pycharm": {
     "is_executing": true
    }
   },
   "outputs": [
    {
     "data": {
      "application/vnd.jupyter.widget-view+json": {
       "model_id": "3539c36519614317a4bb070a9d319371",
       "version_major": 2,
       "version_minor": 0
      },
      "text/plain": [
       "interactive(children=(Dropdown(description='选择数据集:', options=('testdata/circlesSet.txt', 'testdata/datingTestS…"
      ]
     },
     "metadata": {},
     "output_type": "display_data"
    }
   ],
   "source": [
    "#数据集存放位置\n",
    "DATA_DIR=\"testdata/\"\n",
    "all_data_path=[]\n",
    "for root, dirs, files in os.walk(DATA_DIR):\n",
    "    for file in files:\n",
    "        all_data_path.append(os.path.join(root,file))\n",
    "        \n",
    "#可交互文件选择模块\n",
    "iw_filename=widgets.Dropdown(\n",
    "    options=all_data_path,\n",
    "    description='选择数据集:',\n",
    "    disabled=False,\n",
    ")\n",
    "\n",
    "def choose_show(filename):\n",
    "    \"\"\"\n",
    "    选择原有数据集，展示原始数据\n",
    "    :param b: 无意义\n",
    "    :return:\n",
    "    \"\"\"\n",
    "    new_dataset=Dataset(path=filename,isLabeled=True)\n",
    "    new_dataset.show_data()\n",
    "\n",
    "data_show=widgets.interactive(choose_show,filename=iw_filename)\n",
    "display(data_show)"
   ]
  },
  {
   "cell_type": "code",
   "execution_count": 9,
   "metadata": {
    "pycharm": {
     "is_executing": true
    }
   },
   "outputs": [
    {
     "data": {
      "application/vnd.jupyter.widget-view+json": {
       "model_id": "f9d71b04abaf4227afee2a93340c82d3",
       "version_major": 2,
       "version_minor": 0
      },
      "text/plain": [
       "interactive(children=(Dropdown(description='选择数据集:', index=4, options=('testdata/circlesSet.txt', 'testdata/da…"
      ]
     },
     "metadata": {},
     "output_type": "display_data"
    },
    {
     "data": {
      "application/vnd.jupyter.widget-view+json": {
       "model_id": "00680fca014842a59a6a77cab6f7ba87",
       "version_major": 2,
       "version_minor": 0
      },
      "text/plain": [
       "Output()"
      ]
     },
     "metadata": {},
     "output_type": "display_data"
    }
   ],
   "source": [
    "\"\"\"\n",
    "对于给定数据集进行相关处理并展示\n",
    "\"\"\"\n",
    "w_draw_output=widgets.Output()\n",
    "\n",
    "def choose_draw(filename):\n",
    "    \"\"\"\n",
    "    数据集选择流程\n",
    "    用户通过下拉菜单选择数据集\n",
    "    进行相关处理并展示\n",
    "    :param filename:widget传入的文件名\n",
    "    \"\"\"\n",
    "    pylab.rcParams['figure.figsize'] = FIG_SIZE\n",
    "    new_dataset=Dataset(path=filename,isLabeled=True)\n",
    "    with w_draw_output:\n",
    "        w_draw_output.clear_output()\n",
    "        new_dataset.draw_2D_data()\n",
    "        plt.show()\n",
    "\n",
    "data_draw=widgets.interactive(choose_draw,filename=iw_filename)\n",
    "display(data_draw,w_draw_output)"
   ]
  },
  {
   "cell_type": "markdown",
   "metadata": {
    "pycharm": {
     "name": "#%% md\n"
    }
   },
   "source": [
    "生成测试样本点+KNN分类\n",
    "KNN算法在classify0中"
   ]
  },
  {
   "cell_type": "code",
   "execution_count": 10,
   "metadata": {
    "pycharm": {
     "is_executing": true,
     "name": "#%%\n"
    }
   },
   "outputs": [
    {
     "data": {
      "application/vnd.jupyter.widget-view+json": {
       "model_id": "6ba7f692369349c5bf5c1d610342158c",
       "version_major": 2,
       "version_minor": 0
      },
      "text/plain": [
       "Button(description='生成随机样本点', style=ButtonStyle(), tooltip='Click me')"
      ]
     },
     "metadata": {},
     "output_type": "display_data"
    },
    {
     "data": {
      "application/vnd.jupyter.widget-view+json": {
       "model_id": "cb2aa31210db48f8b1e709bc3711b2ea",
       "version_major": 2,
       "version_minor": 0
      },
      "text/plain": [
       "Output()"
      ]
     },
     "metadata": {},
     "output_type": "display_data"
    }
   ],
   "source": [
    "w_gen_button=widgets.Button(\n",
    "    description='生成随机样本点',\n",
    "    disabled=False,\n",
    "    button_style='', # 'success', 'info', 'warning', 'danger' or ''\n",
    "    tooltip='Click me',\n",
    "    icon=''\n",
    ")\n",
    "\n",
    "w_output=widgets.Output()\n",
    "\n",
    "#此处定义为全局变量\n",
    "new_dataset=Dataset(path=iw_filename.value,isLabeled=True)\n",
    "test_point_set=np.ndarray((0,new_dataset.dimension))\n",
    "\n",
    "from kNN import classify0\n",
    "def judge():\n",
    "    test_point_label=[]\n",
    "    for i in test_point_set:\n",
    "        knn_label=classify0(inX=i,dataSet=new_dataset.data,labels=new_dataset.label,k=4)\n",
    "        test_point_label.append(knn_label)\n",
    "    print(\"测试点经过KNN算法预测分类结果如下\")\n",
    "    print(test_point_label)\n",
    "\n",
    "def gen_rand_data(b):\n",
    "    \"\"\"\n",
    "    点击按钮生成随机数据集，写入testdata，并展示\n",
    "    :param b:按钮点击事件\n",
    "    :return:\n",
    "    \"\"\"\n",
    "    global test_point_set\n",
    "    rand_data = np.zeros((1,new_dataset.dimension))\n",
    "    for i in range(new_dataset.dimension):\n",
    "        low = np.min(new_dataset.data[:, i])\n",
    "        high = np.max(new_dataset.data[:, i])\n",
    "        # 在该维度下的最小值到最大值中取一个随机数\n",
    "        rand_data[0][i] = (high - low) * np.random.sample() + low\n",
    "    test_point_set=np.append(test_point_set, rand_data, axis=0)\n",
    "    # new_dataset.data=np.append(new_dataset.data, rand_data, axis=0)\n",
    "    # new_dataset.label.append('testpoint')\n",
    "    with w_output:\n",
    "        w_output.clear_output()\n",
    "        new_dataset.draw_2D_data()\n",
    "        print(\"生成了%d个测试点\"% test_point_set.shape[0])\n",
    "        judge()\n",
    "        plt.scatter(test_point_set[:,0],test_point_set[:,1],marker='x',s=100,c='black')\n",
    "        plt.show()\n",
    "\n",
    "w_gen_button.on_click(gen_rand_data)\n",
    "display(w_gen_button,w_output)"
   ]
  },
  {
   "cell_type": "code",
   "execution_count": null,
   "metadata": {},
   "outputs": [],
   "source": []
  }
 ],
 "metadata": {
  "kernelspec": {
   "display_name": "Python 3",
   "language": "python",
   "name": "python3"
  },
  "language_info": {
   "codemirror_mode": {
    "name": "ipython",
    "version": 3
   },
   "file_extension": ".py",
   "mimetype": "text/x-python",
   "name": "python",
   "nbconvert_exporter": "python",
   "pygments_lexer": "ipython3",
   "version": "3.7.4"
  }
 },
 "nbformat": 4,
 "nbformat_minor": 1
}