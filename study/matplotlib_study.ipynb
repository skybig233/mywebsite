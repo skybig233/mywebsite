{
 "cells": [
  {
   "cell_type": "markdown",
   "metadata": {},
   "source": [
    "交互展示可能性的探究\n",
    "\n",
    "idea：\n",
    "鼠标点击matplotlib生成的图片上的任意一个位置，\n",
    "matplotlib重新绘图生成图片"
   ]
  },
  {
   "cell_type": "code",
   "execution_count": 2,
   "metadata": {
    "scrolled": true
   },
   "outputs": [
    {
     "name": "stdout",
     "output_type": "stream",
     "text": [
      "Using matplotlib backend: Qt5Agg\n",
      "Populating the interactive namespace from numpy and matplotlib\n",
      "(1.992315946930281, 2.8873949837224764)\n",
      "(2.7004015998959416, 1.6949934948250307)\n",
      "\n",
      " distance between points: 3.1882866477498117 m\n",
      "\n",
      "-------------------\n",
      "\n"
     ]
    }
   ],
   "source": [
    "%pylab\n",
    "import numpy as np\n",
    "from matplotlib import pyplot as plt\n",
    "#Some code here [. . .]\n",
    "fig, ax = plt.subplots(1)\n",
    "x=[1,2,3,4]\n",
    "y=[1,2,3,4]\n",
    "ax.scatter(x,y)\n",
    "'''preventing plot from rescaling image:'''\n",
    "# ax.hold(True)\n",
    "ax.autoscale = False\n",
    "#ax.plot(100,100, 'ro') # This works\n",
    "plt.show()\n",
    "\n",
    "class MouseMonitor:\n",
    "    flag = True\n",
    "    x = 0.\n",
    "    y = 0.\n",
    "    fig = None\n",
    "    axes = None\n",
    "    def __init__(self, fig, ax):\n",
    "        self.axes = ax\n",
    "        self.fig = fig\n",
    "    def __call__(self, event):\n",
    "    \n",
    "        if self.flag:\n",
    "            print('({}, {})'.format(event.xdata, event.ydata))\n",
    "            self.flag = False\n",
    "        else:\n",
    "            d = np.linalg.norm([event.xdata - self.x, event.ydata - self.y])\n",
    "            print('({}, {})\\n\\n distance between points: {} m\\n\\n-------------------\\n'.format(event.xdata, event.ydata, d))\n",
    "            self.flag = True\n",
    "            self.x = event.xdata\n",
    "            self.y = event.ydata\n",
    "            self.axes.plot(self.y, self.x, 'ro', linewidth = 5) #This don't work\n",
    "\n",
    "mouse = MouseMonitor(fig, ax)\n",
    "cid = fig.canvas.mpl_connect('button_press_event', mouse)"
   ]
  },
  {
   "cell_type": "code",
   "execution_count": null,
   "metadata": {},
   "outputs": [],
   "source": [
    "%matplotlib notebook\n",
    "import numpy as np\n",
    "import matplotlib.pyplot as plt\n",
    "fig = plt.figure()\n",
    "ax = fig.add_subplot(111)\n",
    "ax.plot(np.random.rand(10))\n",
    "text=ax.text(0,0, \"\", va=\"bottom\", ha=\"left\")\n",
    "\n",
    "def onclick(event):\n",
    "    ax.plot(event.xdata, event.ydata,'ro', linewidth = 5)\n",
    "    tx = 'button=%d, x=%d, y=%d, xdata=%f, ydata=%f' % (event.button, event.x, event.y, event.xdata, event.ydata)\n",
    "    text.set_text(tx)\n",
    "\n",
    "cid = fig.canvas.mpl_connect('button_press_event', onclick)"
   ]
  }
 ],
 "metadata": {
  "kernelspec": {
   "display_name": "Python 3",
   "language": "python",
   "name": "python3"
  },
  "language_info": {
   "codemirror_mode": {
    "name": "ipython",
    "version": 3
   },
   "file_extension": ".py",
   "mimetype": "text/x-python",
   "name": "python",
   "nbconvert_exporter": "python",
   "pygments_lexer": "ipython3",
   "version": "3.7.4"
  }
 },
 "nbformat": 4,
 "nbformat_minor": 1
}