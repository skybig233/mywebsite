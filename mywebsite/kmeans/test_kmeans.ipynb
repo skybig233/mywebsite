{
 "cells": [
  {
   "cell_type": "code",
   "execution_count": 1,
   "metadata": {},
   "outputs": [],
   "source": [
    "import numpy as np\n",
    "#load data from file导入txt数据\n",
    "def load_data(filename):\n",
    "    dataset = []\n",
    "    file = open(filename)\n",
    "    for line in file.readlines():\n",
    "        lineArr = line.strip().split('\\t')\n",
    "        m = len(lineArr)\n",
    "        dataset.append(lineArr[0:m])\n",
    "    return np.array(dataset,dtype=np.float64)\n",
    "           \n",
    "import matplotlib.pyplot as plt\n",
    "def disp_dataset(x):\n",
    "    print (x.shape)\n",
    "    #可视化一下\n",
    "    plt.scatter(x[:,0],x[:,1],marker='x',color = 'r')\n",
    "    plt.xlabel('x0')\n",
    "    plt.ylabel('x1')\n",
    "    plt.show()\n"
   ]
  },
  {
   "cell_type": "code",
   "execution_count": 2,
   "metadata": {},
   "outputs": [],
   "source": [
    "#计算距离\n",
    "def computeDistance(A,B):\n",
    "    return np.sqrt(np.sum(np.square(A-B)))\n",
    "\n",
    "#我们一开始应该随机初始化centroids ,随机选择k个样本点作为质心,而不是书上的某个随机值\n",
    "def randCentroids(x,k):\n",
    "    m,n = x.shape # m=80个数据，n=2维\n",
    "    centroids = np.zeros((k,n)) #产生k个 [0 0]的数据\n",
    "    randIndex = np.random.choice(m,k) #从m个数据中选k个randindex\n",
    "    centroids = x[randIndex]\n",
    "    return centroids\n",
    "\n",
    "#计算x的均值，改变centroids\n",
    "def change_centroids(x,idx,K):\n",
    "    m,n = x.shape\n",
    "    centroids = np.zeros((K,n))\n",
    "    for i in range(K):\n",
    "        index = np.where(idx[:,0].ravel() == i)\n",
    "        centroids[i] = np.mean(x[index],axis=0)\n",
    "    return centroids\n",
    "\n",
    "def plot_data(x,idx,K,cent,centroids,cnt):\n",
    "    m=x.shape[0]\n",
    "    tmp_idx=[]\n",
    "    color_list=['r','g','y','b','m','orange']\n",
    "    tmp_idx=idx[:,0].tolist() #要把numpyfloat64转换为list int\n",
    "    for i in range(m):\n",
    "        plt.scatter(x[i,0],x[i,1],marker='x',color=color_list[int(tmp_idx[i])])\n",
    "    \n",
    "   # plt.scatter(centroids[:,0],centroids[:,1],marker='o',color = 'black',linewidths=10)\n",
    "    \n",
    "    for k in range(K):\n",
    "        plt.scatter(centroids[k,0],centroids[k,1],marker='o',color = color_list[k],linewidths=10)\n",
    "        plt.plot(np.array(cent[\"%d\"%(k)])[:,0],np.array(cent[\"%d\"%(k)])[:,1],\"b-o\",color=color_list[k])\n",
    "    plt.xlabel('X1')\n",
    "    plt.ylabel('X2')\n",
    "    plt.title(\"figure %d\"%(cnt))\n",
    "    plt.show()\n",
    "\n",
    "        \n",
    "\n",
    "#为数据集x找到最近的质心,直到质心不变为止   \n",
    "def kmeans(x,K):\n",
    "    #1.初始化质心\n",
    "    centroids = randCentroids(x,K)\n",
    "    m = x.shape[0]\n",
    "    idx = np.zeros((x.shape[0],2)) #记录x对应的质心的下标 + 平方误差\n",
    "    clusterchanged = True #记录分类变没变化\n",
    "    cent = {} #用字典，来存储各个质心的变化\n",
    "    cnt=0 #记录丢点的次数\n",
    "    \n",
    "    # 初始化质心字典\n",
    "    for k in range(K):\n",
    "        cent[\"%d\"%(k)] = []\n",
    "        cent[\"%d\"%(k)].append(centroids[k,:].tolist())\n",
    "        \n",
    "    while clusterchanged:\n",
    "        \n",
    "        clusterchanged = False\n",
    "        #2.为每个样本点分配质心\n",
    "        for i in range(m):\n",
    "            minDist = np.inf\n",
    "            minIndex = -1\n",
    "            for j in range(K):\n",
    "                distance = computeDistance(x[i,:],centroids[j,:])\n",
    "                if distance<minDist:\n",
    "                    minDist = distance\n",
    "                    minIndex = j\n",
    "            if idx[i,0] != minIndex:\n",
    "                clusterchanged = True\n",
    "            idx[i,:] = minIndex, minDist**2\n",
    "        #丢完点之后的情况输出一下\n",
    "        cnt=cnt+1\n",
    "        plot_data(x,idx,K,cent,centroids,cnt)\n",
    "        #3.更新质心的位置\n",
    "        centroids = change_centroids(x,idx,K)\n",
    "        # 4.更新质心字典\n",
    "        for k in range(K):\n",
    "            cent[\"%d\"%(k)].append(centroids[k,:].tolist())\n",
    "    return centroids,idx,cent\n",
    "\n"
   ]
  },
  {
   "cell_type": "code",
   "execution_count": 3,
   "metadata": {
    "scrolled": false
   },
   "outputs": [
    {
     "data": {
      "application/vnd.jupyter.widget-view+json": {
       "model_id": "7e7352c7f3ee4bacbafc2aa2c7c50cab",
       "version_major": 2,
       "version_minor": 0
      },
      "text/plain": [
       "interactive(children=(Dropdown(description='选择数据集:', options=('testSet.txt', 'testSet2.txt'), value='testSet.t…"
      ]
     },
     "metadata": {},
     "output_type": "display_data"
    }
   ],
   "source": [
    "from __future__ import print_function\n",
    "from ipywidgets import interact, interactive, fixed, interact_manual\n",
    "import ipywidgets as widgets\n",
    "def choose(filename,K):\n",
    "    x = load_data(filename)\n",
    "    disp_dataset(x)\n",
    "    centroids,idx,cent = kmeans(x,K)\n",
    "\n",
    "K_widget=widgets.IntSlider(value=4,min=1, max=6, step=1, continuous_update=False)\n",
    "filename_widget=widgets.Dropdown(\n",
    "    options=['testSet.txt','testSet2.txt'],\n",
    "    description='选择数据集:',\n",
    "    disabled=False,\n",
    ")\n",
    "interact(choose, filename=filename_widget,K=K_widget);\n"
   ]
  },
  {
   "cell_type": "code",
   "execution_count": null,
   "metadata": {},
   "outputs": [],
   "source": []
  }
 ],
 "metadata": {
  "kernelspec": {
   "display_name": "Python 3",
   "language": "python",
   "name": "python3"
  },
  "language_info": {
   "codemirror_mode": {
    "name": "ipython",
    "version": 3
   },
   "file_extension": ".py",
   "mimetype": "text/x-python",
   "name": "python",
   "nbconvert_exporter": "python",
   "pygments_lexer": "ipython3",
   "version": "3.7.3"
  }
 },
 "nbformat": 4,
 "nbformat_minor": 2
}
